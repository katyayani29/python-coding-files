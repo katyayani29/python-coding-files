{
 "cells": [
  {
   "cell_type": "code",
   "execution_count": 34,
   "id": "b8a8cef0",
   "metadata": {},
   "outputs": [
    {
     "name": "stdout",
     "output_type": "stream",
     "text": [
      "0\n",
      "1\n",
      "2\n",
      "4\n",
      "5\n"
     ]
    }
   ],
   "source": [
    "#1. Write a Python program that prints all the numbers from \n",
    "#0 to 6 except 3 and 6\n",
    "for i in range(7):\n",
    "    if i!=3 and i!=6:\n",
    "        print(i)\n",
    "    \n",
    "\n",
    "\n",
    "\n"
   ]
  },
  {
   "cell_type": "code",
   "execution_count": 60,
   "id": "ef9bf1d5",
   "metadata": {},
   "outputs": [
    {
     "name": "stdout",
     "output_type": "stream",
     "text": [
      "enter the range: 7\n",
      "28\n"
     ]
    }
   ],
   "source": [
    "#2.Write a program to accept a number from a user and \n",
    "#calculate the sum of all numbers from 1 to a given number\n",
    "\n",
    "num=int(input(\"enter the range: \"))\n",
    "sum=0\n",
    "for i in range(num+1):\n",
    "    sum+=i\n",
    "print(sum)"
   ]
  },
  {
   "cell_type": "code",
   "execution_count": 88,
   "id": "c7c5b8bd",
   "metadata": {},
   "outputs": [
    {
     "name": "stdout",
     "output_type": "stream",
     "text": [
      "enter the number:6\n",
      "6 x 1 = 6\n",
      "6 x 2 = 12\n",
      "6 x 3 = 18\n",
      "6 x 4 = 24\n",
      "6 x 5 = 30\n",
      "6 x 6 = 36\n",
      "6 x 7 = 42\n",
      "6 x 8 = 48\n",
      "6 x 9 = 54\n",
      "6 x 10 = 60\n"
     ]
    }
   ],
   "source": [
    "#3.Write a program to print multiplication table of a given \n",
    "#number(input)\n",
    "n=int(input(\"enter the number:\"))\n",
    "for i in range(1,11):\n",
    "    print(n,\"x\", i,\"=\", i*n)\n",
    "    "
   ]
  },
  {
   "cell_type": "code",
   "execution_count": 8,
   "id": "f2ebb626",
   "metadata": {},
   "outputs": [
    {
     "name": "stdout",
     "output_type": "stream",
     "text": [
      "enter the number:2345678\n",
      "8\n"
     ]
    }
   ],
   "source": [
    "#4.Write a program to count the total number of digits in a \n",
    "#number using a while loop.\n",
    "x=input(\"enter the number:\")\n",
    "print(x.count(\"\"))\n",
    "\n"
   ]
  },
  {
   "cell_type": "code",
   "execution_count": 10,
   "id": "7fd90aec",
   "metadata": {},
   "outputs": [
    {
     "name": "stdout",
     "output_type": "stream",
     "text": [
      "enter the guess number:7\n",
      "well guessed\n"
     ]
    }
   ],
   "source": [
    "#5. Write a Python program to guess a number between 1 to\n",
    "n=int(input(\"enter the guess number:\"))\n",
    "while (2==2):\n",
    "    if ( n>11):\n",
    "        print(\"wrong guess\")\n",
    "    elif n<=11:\n",
    "        print(\"well guessed\")\n",
    "    break\n",
    "\n",
    "\n",
    "\n"
   ]
  },
  {
   "cell_type": "code",
   "execution_count": 12,
   "id": "d1b7d64d",
   "metadata": {},
   "outputs": [
    {
     "name": "stdout",
     "output_type": "stream",
     "text": [
      "enter the range:56\n",
      "3 Fizz\n",
      "5 Buzz\n",
      "6 Fizz\n",
      "9 Fizz\n",
      "10 Buzz\n",
      "12 Fizz\n",
      "15 FizzBuzz\n",
      "18 Fizz\n",
      "20 Buzz\n",
      "21 Fizz\n",
      "24 Fizz\n",
      "25 Buzz\n",
      "27 Fizz\n",
      "30 FizzBuzz\n",
      "33 Fizz\n",
      "35 Buzz\n",
      "36 Fizz\n",
      "39 Fizz\n",
      "40 Buzz\n",
      "42 Fizz\n",
      "45 FizzBuzz\n",
      "48 Fizz\n",
      "50 Buzz\n",
      "51 Fizz\n",
      "54 Fizz\n",
      "55 Buzz\n"
     ]
    }
   ],
   "source": [
    "#6.Write a Python program which iterates the integers from 1 \n",
    "#to 60. For multiples of three print \"Fizz\" instead of the\n",
    "#number and for the multiples of five print \"Buzz\". For \n",
    "#numbers which are multiples of both three and five print \n",
    "#\"FizzBuzz\".\n",
    "n=int(input(\"enter the range:\"))\n",
    "for i in range(1,n+1):\n",
    "    if(i%3==0) and (i%5==0):\n",
    "        print(i,\"FizzBuzz\")\n",
    "    elif (i%3==0):\n",
    "        print(i,\"Fizz\")\n",
    "    elif(i%5==0):\n",
    "        print(i,\"Buzz\")\n",
    "        \n",
    "    \n",
    "\n",
    "\n",
    "\n",
    "\n"
   ]
  },
  {
   "cell_type": "code",
   "execution_count": 4,
   "id": "bf37b55d",
   "metadata": {},
   "outputs": [
    {
     "name": "stdout",
     "output_type": "stream",
     "text": [
      "enter the string:katyayani1234\n",
      "Number of digits: 4\n",
      "Number of letters: 9\n"
     ]
    }
   ],
   "source": [
    "#7.Write a Python program that accepts a string and calculate \n",
    "#the number of digits and letters\n",
    "n=input(\"enter the string:\")\n",
    "digits, letters = count_digits_and_letters(n)\n",
    "def count_digits_and_letters(n):\n",
    "    num_digits = 0\n",
    "    num_letters = 0\n",
    "    \n",
    "    for char in n:\n",
    "        if char.isdigit():\n",
    "            num_digits += 1\n",
    "        elif char.isalpha():\n",
    "            num_letters += 1\n",
    "    \n",
    "    return num_digits, num_letters\n",
    "print(\"Number of digits:\", digits)\n",
    "print(\"Number of letters:\", letters)\n",
    "\n",
    "\n",
    "\n",
    "\n",
    "\n",
    "\n",
    "\n"
   ]
  },
  {
   "cell_type": "code",
   "execution_count": null,
   "id": "b66cbe9f",
   "metadata": {},
   "outputs": [],
   "source": []
  },
  {
   "cell_type": "code",
   "execution_count": 18,
   "id": "100489c1",
   "metadata": {},
   "outputs": [
    {
     "ename": "SyntaxError",
     "evalue": "cannot assign to function call (3291186201.py, line 10)",
     "output_type": "error",
     "traceback": [
      "\u001b[1;36m  File \u001b[1;32m\"C:\\Users\\KATYAYANI\\AppData\\Local\\Temp\\ipykernel_3708\\3291186201.py\"\u001b[1;36m, line \u001b[1;32m10\u001b[0m\n\u001b[1;33m    lower()=1\u001b[0m\n\u001b[1;37m    ^\u001b[0m\n\u001b[1;31mSyntaxError\u001b[0m\u001b[1;31m:\u001b[0m cannot assign to function call\n"
     ]
    }
   ],
   "source": [
    "#8.Write a Python program to check the validity of password \n",
    "#input by users.\n",
    "n=input(\"enter the string:\")\n",
    "upper=0\n",
    "lower=0\n",
    "char=0\n",
    "num=0\n",
    "if i in n:\n",
    "    if (i.islower()):\n",
    "        lower()=1\n",
    "        if i in isupper():\n",
    "            upper()=1\n",
    "            if i in isdigit():\n",
    "                number=1\n",
    "    elif i==\"@\" or i==\"$\" or i==\"#\":\n",
    "        char=1\n",
    "    if lowe==1 and upper==1 and digit==1 and char==1:\n",
    "        print(valid)\n",
    "    else:\n",
    "        print(invalid)\n",
    "           \n",
    "                             \n",
    "                        \n",
    "\n",
    "\n",
    "\n",
    "#.i am not getting this code sir"
   ]
  },
  {
   "cell_type": "code",
   "execution_count": 25,
   "id": "b421dcb1",
   "metadata": {},
   "outputs": [
    {
     "name": "stdout",
     "output_type": "stream",
     "text": [
      "enter a string:kat\n",
      "tak\n"
     ]
    }
   ],
   "source": [
    "#9.Write a program in Python to reverse a word by using \n",
    "#while loop\n",
    "n=input(\"enter a string:\")\n",
    "print(n[::-1])\n",
    "\n",
    "\n"
   ]
  },
  {
   "cell_type": "code",
   "execution_count": 8,
   "id": "3871d70a",
   "metadata": {},
   "outputs": [
    {
     "name": "stdout",
     "output_type": "stream",
     "text": [
      "enter the range: 3\n",
      "enter your number4\n",
      "enter your number5\n",
      "enter your number6\n",
      "15\n",
      "5.0\n"
     ]
    }
   ],
   "source": [
    "#10.Write a program which takes 10 integers as input using loop \n",
    "#and print their average value on the screen\n",
    "n=int(input(\"enter the range: \"))\n",
    "s=0\n",
    "avg=0\n",
    "for i in range(n):\n",
    "    num=int(input(\"enter your number\"))\n",
    "    s+=num\n",
    "print(s)\n",
    "avg=(s/n)\n",
    "print(avg)\n",
    "      \n",
    "      \n",
    "\n",
    "    \n",
    "\n",
    "\n",
    "\n",
    "\n",
    "\n"
   ]
  },
  {
   "cell_type": "code",
   "execution_count": 10,
   "id": "15225c81",
   "metadata": {},
   "outputs": [
    {
     "name": "stdout",
     "output_type": "stream",
     "text": [
      "enter the number3\n",
      "enter the number4\n",
      "enter the number4\n",
      "enter the number5\n",
      "enter the number6\n",
      "enter the number7\n",
      "enter the number8\n",
      "enter the number9\n",
      "enter the numberq\n",
      "product:  725760\n",
      "average:  5.75\n"
     ]
    }
   ],
   "source": [
    "#11.Write a program which takes integer inputs from user until \n",
    "#he/she presses “q” (Ask to press q to quit after every integer \n",
    "#input). Print average and product of all numbers.\n",
    "product=1\n",
    "avg=0\n",
    "m=0\n",
    "count=0\n",
    "while(True):\n",
    "    num=input(\"enter the number\")\n",
    "    if(num==\"q\"):\n",
    "        break\n",
    "    product=product*int(num)\n",
    "    m=m+int(num)\n",
    "    count=count+1\n",
    "#print(s)\n",
    "print(\"product: \",product)\n",
    "avg=(m/count)\n",
    "print(\"average: \",avg)\n",
    "\n",
    "\n",
    "\n",
    "\n",
    "\n"
   ]
  },
  {
   "cell_type": "code",
   "execution_count": 20,
   "id": "56f51e58",
   "metadata": {},
   "outputs": [
    {
     "name": "stdout",
     "output_type": "stream",
     "text": [
      "enter your string: asd12.asd22\n",
      "asdasd\n"
     ]
    }
   ],
   "source": [
    "#12.Write a Python program which will remove all digits or \n",
    "#any other characters from the string except alphabets\n",
    "#Example:\n",
    "#Input:\n",
    "#“asd12.asd22\n",
    "string=input(\"enter your string: \")\n",
    "m=\"\"\n",
    "for i in string:\n",
    "    if(i.isalpha()):\n",
    "        m+=i\n",
    "print(m)\n",
    "        \n",
    "\n",
    "\n",
    "\n",
    "\n"
   ]
  },
  {
   "cell_type": "code",
   "execution_count": 3,
   "id": "652880a5",
   "metadata": {},
   "outputs": [
    {
     "name": "stdout",
     "output_type": "stream",
     "text": [
      "enter your range: 9\n",
      "20\n"
     ]
    }
   ],
   "source": [
    "#13.Write a python program to find the sum of all even \n",
    "#numbers from 0 to 10\n",
    "n=int(input(\"enter your range: \"))\n",
    "s=0\n",
    "for i in range(1,n+1):\n",
    "    if(i%2==0):\n",
    "        s+=i\n",
    "print(s)\n",
    "\n",
    "\n"
   ]
  },
  {
   "cell_type": "code",
   "execution_count": 4,
   "id": "b5ee5844",
   "metadata": {},
   "outputs": [
    {
     "name": "stdout",
     "output_type": "stream",
     "text": [
      "enter the range: 9\n",
      "9\n",
      "8\n",
      "7\n",
      "6\n",
      "5\n",
      "4\n",
      "3\n",
      "2\n",
      "1\n",
      "0\n"
     ]
    }
   ],
   "source": [
    "#14. Write a python program which will accept a digit and print\n",
    "#All the numbers before it till 0\n",
    "n=int(input(\"enter the range: \"))\n",
    "i=0\n",
    "while(i<=n):\n",
    "    print(n)\n",
    "    n=n-1\n",
    "\n",
    "\n"
   ]
  },
  {
   "cell_type": "code",
   "execution_count": 6,
   "id": "9aa38d49",
   "metadata": {},
   "outputs": [
    {
     "name": "stdout",
     "output_type": "stream",
     "text": [
      "enter ur first num : 34\n",
      "enter  ur second num: 56\n",
      "enter the symbol +,-,/,%,*,**,// : +\n",
      "34+56=90\n",
      "enter ur first num : 3\n",
      "enter  ur second num: 6\n",
      "enter the symbol +,-,/,%,*,**,// : -\n",
      "3-6=-3\n",
      "enter ur first num : 3\n",
      "enter  ur second num: 5\n",
      "enter the symbol +,-,/,%,*,**,// : c\n"
     ]
    }
   ],
   "source": [
    "#15.Create a dynamic calculator which will run continually till \n",
    "#you press “c”\n",
    "while (2==2):\n",
    "    x=int(input(\"enter ur first num : \"))\n",
    "    y=int(input(\"enter  ur second num: \"))\n",
    "    c=input(\"enter the symbol +,-,/,%,*,**,// : \")\n",
    "    if (c==\"+\"):\n",
    "        print(\"{}+{}={}\".format(x,y,x+y))\n",
    "    elif (c==\"*\"):\n",
    "        print(\"{}*{}={}\".format(x,y,x*y))\n",
    "    elif (c==\"-\"):\n",
    "        print(\"{}-{}={}\".format(x,y,x-y))\n",
    "    elif (c==\"/\"):\n",
    "        print(\"{}/{}={}\".format(x,y,x/y))\n",
    "    elif (c==\"**\"):\n",
    "        print(\"{}**{}={}\".format(x,y,x**y))\n",
    "    elif(c==\"%\"):\n",
    "        print(\"{}%{}={}\".format(x,y,x%y))\n",
    "    elif(c.lower()==\"c\"):\n",
    "        break\n",
    "    else:\n",
    "        print(\"enter either correct symbol or c\")"
   ]
  },
  {
   "cell_type": "code",
   "execution_count": null,
   "id": "a86b453b",
   "metadata": {},
   "outputs": [],
   "source": []
  }
 ],
 "metadata": {
  "kernelspec": {
   "display_name": "Python 3 (ipykernel)",
   "language": "python",
   "name": "python3"
  },
  "language_info": {
   "codemirror_mode": {
    "name": "ipython",
    "version": 3
   },
   "file_extension": ".py",
   "mimetype": "text/x-python",
   "name": "python",
   "nbconvert_exporter": "python",
   "pygments_lexer": "ipython3",
   "version": "3.9.13"
  }
 },
 "nbformat": 4,
 "nbformat_minor": 5
}
