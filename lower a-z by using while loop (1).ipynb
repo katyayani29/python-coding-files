{
 "cells": [
  {
   "cell_type": "code",
   "execution_count": 1,
   "id": "25071ec9",
   "metadata": {},
   "outputs": [
    {
     "name": "stdout",
     "output_type": "stream",
     "text": [
      "  # \n",
      "#   #\n",
      "#   #\n",
      "#   # \n",
      "  #   #\n"
     ]
    }
   ],
   "source": [
    "x=1\n",
    "while x<=6:\n",
    "    if (x==2) or (x==3):\n",
    "        print(\"#   #\")\n",
    "    elif(x==1):\n",
    "        print(\"  # \")\n",
    "    elif(x==4):\n",
    "        print(\"#   # \")\n",
    "    elif(x==5):\n",
    "        print(\"  #   #\")\n",
    "    x=x+1    "
   ]
  },
  {
   "cell_type": "markdown",
   "id": "ba7c47f7",
   "metadata": {},
   "source": []
  },
  {
   "cell_type": "code",
   "execution_count": 5,
   "id": "55b990f1",
   "metadata": {},
   "outputs": [
    {
     "name": "stdout",
     "output_type": "stream",
     "text": [
      "#\n",
      "#\n",
      "# #\n",
      "#   #\n",
      "#   #\n",
      "# #\n"
     ]
    }
   ],
   "source": [
    "x=1\n",
    "while x<=6:\n",
    "    if (x==2)  or (x==1):\n",
    "        print(\"#\")\n",
    "    elif(x==4) or (x==5):\n",
    "        print(\"#   #\")\n",
    "    elif (x==3):\n",
    "        print(\"# #\")\n",
    "    elif (x==6):\n",
    "        print(\"# #\")\n",
    "    x=x+1    "
   ]
  },
  {
   "cell_type": "code",
   "execution_count": 8,
   "id": "543c9270",
   "metadata": {},
   "outputs": [
    {
     "name": "stdout",
     "output_type": "stream",
     "text": [
      "####\n",
      "#\n",
      "#\n",
      "####\n"
     ]
    }
   ],
   "source": [
    "x=1\n",
    "while x<=5:\n",
    "    if x==1 or x==5:\n",
    "        print(\"####\")\n",
    "    elif (x==2)or(x==3):\n",
    "        print(\"#\")\n",
    "    x=x+1    "
   ]
  },
  {
   "cell_type": "code",
   "execution_count": 17,
   "id": "d8f182bd",
   "metadata": {},
   "outputs": [
    {
     "name": "stdout",
     "output_type": "stream",
     "text": [
      "       #\n",
      "       #\n",
      "       #\n",
      "    #  #\n",
      "  #    #\n",
      "   # # #\n"
     ]
    }
   ],
   "source": [
    "x=1\n",
    "while x<=7:\n",
    "    if (x==1) or (x==2) or(x==3):\n",
    "        print(\"       #\")\n",
    "    elif(x==4):\n",
    "        print(\"    #  #\")\n",
    "    elif(x==5):\n",
    "        print(\"  #    #\")\n",
    "    elif(x==6):\n",
    "        print(\"   # # #\")\n",
    "    x=x+1    "
   ]
  },
  {
   "cell_type": "code",
   "execution_count": 26,
   "id": "076c1b55",
   "metadata": {},
   "outputs": [
    {
     "name": "stdout",
     "output_type": "stream",
     "text": [
      "  # # \n",
      "#    #\n",
      "#  ##\n",
      "#\n",
      " # ###\n"
     ]
    }
   ],
   "source": [
    "x=1\n",
    "while x<=7:\n",
    "    if(x==3):\n",
    "        print(\"#  ##\")\n",
    "    elif(x==1):\n",
    "        print(\"  # # \")\n",
    "    elif(x==2):\n",
    "        print(\"#    #\")\n",
    "    elif(x==4):\n",
    "        print(\"#\")\n",
    "    elif(x==5):\n",
    "        print(\" # ###\")\n",
    "    x=x+1    "
   ]
  },
  {
   "cell_type": "code",
   "execution_count": 27,
   "id": "2eb34f29",
   "metadata": {},
   "outputs": [
    {
     "name": "stdout",
     "output_type": "stream",
     "text": [
      "  ###\n",
      "  # #\n",
      "  #\n",
      "#####\n",
      "  #\n",
      "  #\n"
     ]
    }
   ],
   "source": [
    "x=1\n",
    "while(x<=6):\n",
    "    if(x==1):\n",
    "        print(\"  ###\")\n",
    "    elif(x==2):\n",
    "        print(\"  # #\")\n",
    "    elif(x==4):\n",
    "        print(\"#####\")\n",
    "    else:\n",
    "        print(\"  #\")\n",
    "    x=x+1\n",
    "    "
   ]
  },
  {
   "cell_type": "code",
   "execution_count": 29,
   "id": "98301bb4",
   "metadata": {},
   "outputs": [
    {
     "name": "stdout",
     "output_type": "stream",
     "text": [
      "# # #\n",
      "#   #  \n",
      "# # # #\n",
      "    #\n",
      " #  #\n",
      "#   #\n",
      "# # #\n"
     ]
    }
   ],
   "source": [
    "x=1\n",
    "while(x<=7):\n",
    "    if(x==1) or (x==7):\n",
    "        print(\"# # #\")\n",
    "    elif (x==6):\n",
    "        print(\"#   #\")\n",
    "    elif (x==2):\n",
    "        print(\"#   #  \")\n",
    "    elif(x==3):\n",
    "        print(\"# # # #\")\n",
    "    elif(x==4):\n",
    "        print(\"    #\")\n",
    "    else:\n",
    "        print(\" #  #\")\n",
    "    x=x+1"
   ]
  },
  {
   "cell_type": "code",
   "execution_count": 30,
   "id": "bd5270bb",
   "metadata": {},
   "outputs": [
    {
     "name": "stdout",
     "output_type": "stream",
     "text": [
      "#\n",
      "#\n",
      "#\n",
      "# # #\n",
      "#   #\n",
      "#   #\n",
      "#   #\n"
     ]
    }
   ],
   "source": [
    "x=1\n",
    "while(x<=7):\n",
    "    if(x==1) or (x==2) or (x==3):\n",
    "        print(\"#\")\n",
    "    elif(x==4) :\n",
    "        print(\"# # #\")\n",
    "    else:\n",
    "        print(\"#   #\")\n",
    "    x=x+1"
   ]
  },
  {
   "cell_type": "code",
   "execution_count": 31,
   "id": "9b930c0b",
   "metadata": {},
   "outputs": [
    {
     "name": "stdout",
     "output_type": "stream",
     "text": [
      "   #\n",
      " \n",
      "   #\n",
      "   #\n",
      "   #\n",
      "   #\n"
     ]
    }
   ],
   "source": [
    "x=1\n",
    "while (x<=5):\n",
    "    if(x==2):\n",
    "        print(\" \")\n",
    "    print(\"   #\")\n",
    "    x=x+1"
   ]
  },
  {
   "cell_type": "code",
   "execution_count": 32,
   "id": "26f49e2d",
   "metadata": {},
   "outputs": [
    {
     "name": "stdout",
     "output_type": "stream",
     "text": [
      "  #  \n",
      "  #  \n",
      "  #  \n",
      "# #\n",
      "###\n"
     ]
    }
   ],
   "source": [
    "x=1\n",
    "while(x<=5):\n",
    "\n",
    "    if(x==1) or (x==2) or (x==3):\n",
    "        print(\"  #  \")\n",
    "    elif(x==4):\n",
    "        print(\"# #\")\n",
    "    else:\n",
    "        print(\"###\")\n",
    "    x=x+1"
   ]
  },
  {
   "cell_type": "code",
   "execution_count": 37,
   "id": "8f2b00cf",
   "metadata": {},
   "outputs": [
    {
     "name": "stdout",
     "output_type": "stream",
     "text": [
      "#    #\n",
      "#   #\n",
      "# #\n",
      "#   #\n",
      "#    #\n"
     ]
    }
   ],
   "source": [
    "x=1\n",
    "while x<=8:\n",
    "    if(x==1) or (x==5):\n",
    "        print(\"#    #\")\n",
    "    elif(x==2) or (x==4):\n",
    "        print(\"#   #\")\n",
    "    elif(x==3):\n",
    "        print(\"# #\")\n",
    "    x=x+1    "
   ]
  },
  {
   "cell_type": "code",
   "execution_count": 39,
   "id": "196405a8",
   "metadata": {},
   "outputs": [
    {
     "name": "stdout",
     "output_type": "stream",
     "text": [
      "   #\n",
      "   #\n",
      "   #\n",
      "   #\n",
      "   #\n"
     ]
    }
   ],
   "source": [
    "x=1\n",
    "while (x<=5):\n",
    "    print(\"   #\")\n",
    "    x=x+1"
   ]
  },
  {
   "cell_type": "code",
   "execution_count": 41,
   "id": "5bc7399b",
   "metadata": {},
   "outputs": [
    {
     "name": "stdout",
     "output_type": "stream",
     "text": [
      "#  #   # \n",
      " #   #   #\n",
      " #   #   #\n",
      " #   #   #\n",
      " #   #   #\n",
      " #   #   #\n"
     ]
    }
   ],
   "source": [
    "x=1\n",
    "while (x<=6):\n",
    "    if(x==1):\n",
    "        print(\"#  #   # \")\n",
    "    else:\n",
    "        print(\" #   #   #\")\n",
    "    x=x+1"
   ]
  },
  {
   "cell_type": "code",
   "execution_count": 43,
   "id": "ec21047c",
   "metadata": {},
   "outputs": [
    {
     "name": "stdout",
     "output_type": "stream",
     "text": [
      "#  # #\n",
      " #     #\n",
      " #     #\n",
      " #     #\n",
      " #     #\n",
      " #     #\n"
     ]
    }
   ],
   "source": [
    "x=1\n",
    "while (x<=6):\n",
    "    if(x==1):\n",
    "        print(\"#  # #\")\n",
    "    else:\n",
    "        print(\" #     #\")\n",
    "    x=x+1"
   ]
  },
  {
   "cell_type": "code",
   "execution_count": 44,
   "id": "b7659444",
   "metadata": {},
   "outputs": [
    {
     "name": "stdout",
     "output_type": "stream",
     "text": [
      " ###\n",
      "#   #\n",
      "#   #\n",
      "#   #\n",
      " ###\n"
     ]
    }
   ],
   "source": [
    "x=1\n",
    "while(x<=5):\n",
    "    if(x==1) or (x==5) :\n",
    "        print(\" ###\")\n",
    "    else:\n",
    "        print(\"#   #\")\n",
    "    x=x+1"
   ]
  },
  {
   "cell_type": "code",
   "execution_count": 45,
   "id": "9eaaec74",
   "metadata": {},
   "outputs": [
    {
     "name": "stdout",
     "output_type": "stream",
     "text": [
      "#####\n",
      "#   #\n",
      "#####\n",
      "#\n",
      "#\n"
     ]
    }
   ],
   "source": [
    "x=1\n",
    "while x<=7:\n",
    "    if(x==1) or (x==3):\n",
    "        print(\"#####\")\n",
    "    elif(x==2):\n",
    "        print(\"#   #\")\n",
    "    elif(x==4) or (x==5):\n",
    "        print(\"#\")\n",
    "    x=x+1    "
   ]
  },
  {
   "cell_type": "code",
   "execution_count": 46,
   "id": "e4e62b95",
   "metadata": {},
   "outputs": [
    {
     "name": "stdout",
     "output_type": "stream",
     "text": [
      " ####\n",
      "#   #\n",
      "#   #\n",
      " ####\n",
      "    #  #\n",
      "    # #\n",
      "    #\n"
     ]
    }
   ],
   "source": [
    "x=1\n",
    "while(x<=7):\n",
    "    if(x==1) or (x==4):\n",
    "        print(\" ####\")\n",
    "    elif(x==2)or (x==3) :\n",
    "        print(\"#   #\")\n",
    "    elif (x==5):\n",
    "        print(\"    #  #\")\n",
    "    elif (x==6):\n",
    "        print(\"    # #\")\n",
    "    else:\n",
    "        print(\"    #\")\n",
    "    x=x+1"
   ]
  },
  {
   "cell_type": "code",
   "execution_count": 5,
   "id": "2aa56383",
   "metadata": {},
   "outputs": [
    {
     "name": "stdout",
     "output_type": "stream",
     "text": [
      "###\n",
      "#\n",
      "#\n",
      "#\n",
      "#\n"
     ]
    }
   ],
   "source": [
    "x=1\n",
    "while x<=5:\n",
    "    if (x==1):\n",
    "        print(\"###\")\n",
    "    else:\n",
    "        print(\"#\")    \n",
    "    x=x+1    "
   ]
  },
  {
   "cell_type": "code",
   "execution_count": 55,
   "id": "6e816eb7",
   "metadata": {},
   "outputs": [
    {
     "name": "stdout",
     "output_type": "stream",
     "text": [
      "#####\n",
      "#\n",
      "#####\n",
      "    #\n",
      "#####\n"
     ]
    }
   ],
   "source": [
    "x=1\n",
    "while x<=7:\n",
    "    if (x==1) or (x==3) or (x==5):\n",
    "        print(\"#####\")\n",
    "    elif (x==2):\n",
    "        print(\"#\")\n",
    "    elif(x==4):\n",
    "        print(\"    #\")\n",
    "    x=x+1    "
   ]
  },
  {
   "cell_type": "code",
   "execution_count": 59,
   "id": "dd77c121",
   "metadata": {},
   "outputs": [
    {
     "name": "stdout",
     "output_type": "stream",
     "text": [
      "  #\n",
      "  #\n",
      "#####\n",
      "  #\n",
      "  ###\n"
     ]
    }
   ],
   "source": [
    "x=1\n",
    "while(x<=5):\n",
    "    if(x==5):\n",
    "        print(\"  ###\")\n",
    "    elif(x==3):\n",
    "        print(\"#####\")\n",
    "    else:\n",
    "        print(\"  #\")\n",
    "    x=x+1"
   ]
  },
  {
   "cell_type": "code",
   "execution_count": 60,
   "id": "29e51fab",
   "metadata": {},
   "outputs": [
    {
     "name": "stdout",
     "output_type": "stream",
     "text": [
      "#      #\n",
      "#      #\n",
      "#      #\n",
      "########\n"
     ]
    }
   ],
   "source": [
    "x=1\n",
    "while x<=7:\n",
    "    if (x==1) or (x==2) or (x==3):\n",
    "        print(\"#      #\")\n",
    "    elif (x==4):\n",
    "        print(\"########\")\n",
    "    x=x+1    "
   ]
  },
  {
   "cell_type": "code",
   "execution_count": 61,
   "id": "13ec2de6",
   "metadata": {},
   "outputs": [
    {
     "name": "stdout",
     "output_type": "stream",
     "text": [
      "#        #\n",
      "  #     #\n",
      "    #  #\n",
      "      #  \n"
     ]
    }
   ],
   "source": [
    "x=1\n",
    "while x<=7:\n",
    "    if (x==1):\n",
    "        print(\"#        #\")\n",
    "    elif(x==2):\n",
    "        print(\"  #     #\" )\n",
    "    elif(x==3):\n",
    "        print(\"    #  #\"  )\n",
    "    elif(x==4):\n",
    "        print(\"      #  \")\n",
    "    x=x+1    "
   ]
  },
  {
   "cell_type": "code",
   "execution_count": 62,
   "id": "d75ac74b",
   "metadata": {},
   "outputs": [
    {
     "name": "stdout",
     "output_type": "stream",
     "text": [
      "#       #\n",
      "#       #\n",
      "#   #   #\n",
      "# #   # #\n",
      "#       #\n"
     ]
    }
   ],
   "source": [
    "x=1\n",
    "while x<=7:\n",
    "    if (x==1) or (x==2):\n",
    "        print(\"#       #\")\n",
    "    elif(x==3):\n",
    "        print(\"#   #   #\")\n",
    "    elif(x==4):\n",
    "        print(\"# #   # #\")\n",
    "    elif(x==5):\n",
    "        print(\"#       #\")\n",
    "    x=x+1    "
   ]
  },
  {
   "cell_type": "code",
   "execution_count": 63,
   "id": "f0c14451",
   "metadata": {},
   "outputs": [
    {
     "name": "stdout",
     "output_type": "stream",
     "text": [
      "#         #\n",
      "  #     #\n",
      "     #   \n",
      "  #     #\n",
      "#         #\n"
     ]
    }
   ],
   "source": [
    "x=1\n",
    "while x<=7:\n",
    "    if (x==1) or (x==5):\n",
    "        print(\"#         #\")\n",
    "    elif (x==2)or (x==4):\n",
    "        print(\"  #     #\")\n",
    "    elif(x==3):\n",
    "        print(\"     #   \")\n",
    "    x=x+1"
   ]
  },
  {
   "cell_type": "code",
   "execution_count": 64,
   "id": "1dd73a7a",
   "metadata": {},
   "outputs": [
    {
     "name": "stdout",
     "output_type": "stream",
     "text": [
      "#      #\n",
      "  #  #\n",
      "    #\n",
      "  #\n",
      "#\n"
     ]
    }
   ],
   "source": [
    "x=1\n",
    "while x<=5:\n",
    "    if (x==1):\n",
    "        print(\"#      #\")\n",
    "    elif(x==2):\n",
    "        print(\"  #  #\")\n",
    "    elif(x==3):\n",
    "        print(\"    #\")\n",
    "    elif(x==4):\n",
    "        print(\"  #\")\n",
    "    else:\n",
    "        print(\"#\")\n",
    "    x=x+1   "
   ]
  },
  {
   "cell_type": "code",
   "execution_count": 65,
   "id": "7b54fc5a",
   "metadata": {},
   "outputs": [
    {
     "name": "stdout",
     "output_type": "stream",
     "text": [
      "#####\n",
      "   #\n",
      "  #\n",
      " #\n",
      "#####\n"
     ]
    }
   ],
   "source": [
    "x=1\n",
    "while x<=5:\n",
    "    if(x==1) or (x==5):\n",
    "        print(\"#####\")\n",
    "    elif(x==2):\n",
    "        print(\"   #\")\n",
    "    elif(x==3):\n",
    "        print(\"  #\")\n",
    "    else:\n",
    "        print(\" #\")\n",
    "    x=x+1    "
   ]
  },
  {
   "cell_type": "code",
   "execution_count": null,
   "id": "6a8d4fed",
   "metadata": {},
   "outputs": [],
   "source": []
  }
 ],
 "metadata": {
  "kernelspec": {
   "display_name": "Python 3 (ipykernel)",
   "language": "python",
   "name": "python3"
  },
  "language_info": {
   "codemirror_mode": {
    "name": "ipython",
    "version": 3
   },
   "file_extension": ".py",
   "mimetype": "text/x-python",
   "name": "python",
   "nbconvert_exporter": "python",
   "pygments_lexer": "ipython3",
   "version": "3.9.13"
  }
 },
 "nbformat": 4,
 "nbformat_minor": 5
}
