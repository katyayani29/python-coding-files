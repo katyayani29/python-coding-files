{
 "cells": [
  {
   "cell_type": "code",
   "execution_count": 2,
   "id": "4893dd35",
   "metadata": {},
   "outputs": [
    {
     "name": "stdout",
     "output_type": "stream",
     "text": [
      "The maximum of the three numbers is: 45\n"
     ]
    }
   ],
   "source": [
    "#1.Define a function which will return Max of three numbers\n",
    "def n(a, b, c):\n",
    "    return max(a, b, c)\n",
    "\n",
    "num1 = 20\n",
    "num2 = 40\n",
    "num3 = 45\n",
    "\n",
    "max = n(num1, num2, num3)\n",
    "print(\"The maximum of the three numbers is:\", max)\n",
    "\n",
    "\n"
   ]
  },
  {
   "cell_type": "code",
   "execution_count": 1,
   "id": "65c1e3f7",
   "metadata": {},
   "outputs": [
    {
     "name": "stdout",
     "output_type": "stream",
     "text": [
      "Enter a string: kat\n",
      "Original string: kat\n",
      "Reversed string: tak\n"
     ]
    }
   ],
   "source": [
    "#2.Define a Python Function to reverse a string.\n",
    "def reverse_string(n):\n",
    "    return n[::-1]\n",
    "\n",
    "original_string = input(\"Enter a string: \")\n",
    "reversed_string = reverse_string(original_string)\n",
    "\n",
    "print(\"Original string:\", original_string)\n",
    "print(\"Reversed string:\", reversed_string)   \n",
    "\n",
    "\n"
   ]
  },
  {
   "cell_type": "code",
   "execution_count": 7,
   "id": "37418b32",
   "metadata": {},
   "outputs": [
    {
     "name": "stdout",
     "output_type": "stream",
     "text": [
      "sum of x+y: 7\n",
      "sub of x-y: -1\n",
      "multiplication of x*y: 12\n"
     ]
    }
   ],
   "source": [
    "#3.Write a Python program to define a function that accepts 2 values \n",
    "#and return its sum, subtraction and multiplication.\n",
    "def f1(x,y):\n",
    "    return(f1)\n",
    "x=3\n",
    "y=4\n",
    "sum=x+y\n",
    "subtraction=x-y\n",
    "multiplication=x*y\n",
    "print(\"sum of x+y:\", sum)\n",
    "print(\"sub of x-y:\",subtraction)\n",
    "print(\"multiplication of x*y:\",multiplication)"
   ]
  },
  {
   "cell_type": "code",
   "execution_count": 16,
   "id": "56a4bff8",
   "metadata": {},
   "outputs": [
    {
     "data": {
      "text/plain": [
       "'absent'"
      ]
     },
     "execution_count": 16,
     "metadata": {},
     "output_type": "execute_result"
    }
   ],
   "source": [
    "#4.. Define a function that accepts roll number and returns whether the \n",
    "#student is present or absent.\n",
    "def roll_no(x):\n",
    "    if x<=6:\n",
    "        return \"present\"\n",
    "    elif x>6:\n",
    "        return \"absent\"\n",
    "roll_no(10)    "
   ]
  },
  {
   "cell_type": "code",
   "execution_count": 20,
   "id": "56b18b2e",
   "metadata": {},
   "outputs": [
    {
     "data": {
      "text/plain": [
       "99"
      ]
     },
     "execution_count": 20,
     "metadata": {},
     "output_type": "execute_result"
    }
   ],
   "source": [
    "#5.Define a function in python that accepts n values and returns \n",
    "#the maximum of n numbers\n",
    "def max1(*i):\n",
    "    max(i)\n",
    "    return max(i)\n",
    "max1(45,3,44,99,87)"
   ]
  },
  {
   "cell_type": "code",
   "execution_count": 25,
   "id": "aa4beec6",
   "metadata": {},
   "outputs": [
    {
     "ename": "SyntaxError",
     "evalue": "invalid syntax (1773807039.py, line 8)",
     "output_type": "error",
     "traceback": [
      "\u001b[1;36m  File \u001b[1;32m\"C:\\Users\\KATYAYANI\\AppData\\Local\\Temp\\ipykernel_18312\\1773807039.py\"\u001b[1;36m, line \u001b[1;32m8\u001b[0m\n\u001b[1;33m    else:\u001b[0m\n\u001b[1;37m    ^\u001b[0m\n\u001b[1;31mSyntaxError\u001b[0m\u001b[1;31m:\u001b[0m invalid syntax\n"
     ]
    }
   ],
   "source": [
    "#6.. Define a function which counts vowels and consonant in a word.\n",
    "def f1()\n",
    "\n",
    "\n",
    "\n"
   ]
  },
  {
   "cell_type": "code",
   "execution_count": 31,
   "id": "602f8b06",
   "metadata": {},
   "outputs": [
    {
     "name": "stdout",
     "output_type": "stream",
     "text": [
      "enter integer: 5\n"
     ]
    },
    {
     "data": {
      "text/plain": [
       "120"
      ]
     },
     "execution_count": 31,
     "metadata": {},
     "output_type": "execute_result"
    }
   ],
   "source": [
    "#7.. Define a function that returns Factorial of a number\n",
    "def fact(n):\n",
    "    fact=1\n",
    "    for i in range(1,n+1):\n",
    "        fact=fact*i\n",
    "    return fact\n",
    "n=int(input(\"enter integer: \"))\n",
    "fact(n)"
   ]
  },
  {
   "cell_type": "code",
   "execution_count": 32,
   "id": "f14481ad",
   "metadata": {},
   "outputs": [
    {
     "name": "stdout",
     "output_type": "stream",
     "text": [
      "enter the radius: 5\n"
     ]
    },
    {
     "data": {
      "text/plain": [
       "58.5"
      ]
     },
     "execution_count": 32,
     "metadata": {},
     "output_type": "execute_result"
    }
   ],
   "source": [
    "#8.Define a function that accepts radius and returns the area of a circle.\n",
    "def area(s):\n",
    "    radius=2.34*(s**2)\n",
    "    return radius\n",
    "s=int(input(\"enter the radius: \"))\n",
    "area(s)\n",
    "\n",
    "\n"
   ]
  },
  {
   "cell_type": "code",
   "execution_count": 38,
   "id": "b0c48590",
   "metadata": {},
   "outputs": [
    {
     "name": "stdout",
     "output_type": "stream",
     "text": [
      "enter the num you want check: 8\n"
     ]
    },
    {
     "data": {
      "text/plain": [
       "'not prime'"
      ]
     },
     "execution_count": 38,
     "metadata": {},
     "output_type": "execute_result"
    }
   ],
   "source": [
    "#9.. Define a function that takes a number as a parameter and check \n",
    "#the number is prime or not\n",
    "def prime(x):\n",
    "    c=0\n",
    "    for i in range(1,x+1):\n",
    "        if (x%i==0):\n",
    "            c=c+1\n",
    "        if(c<9):\n",
    "            return \"not prime\"\n",
    "        else:\n",
    "            return \"prime\"\n",
    "n=int(input(\"enter the num you want check: \"))\n",
    "prime(n)\n",
    "\n",
    "\n"
   ]
  },
  {
   "cell_type": "code",
   "execution_count": 1,
   "id": "eeb04058",
   "metadata": {},
   "outputs": [],
   "source": [
    "#10.Mary wants to run a 25-mile marathon. When she attempts to \n",
    "#sign up for the marathon, she notices the sign-up sheet doesn't \n",
    "#directly state the marathon's length. Instead, the marathon's length \n",
    "#is listed in small, different portions. Help Mary find out how long \n",
    "#the marathon actually is. So create a function that \n",
    "#** Return True if the marathon is 25 miles long, otherwise, return \n",
    "#False.\n",
    "def distance(x):\n",
    "    "
   ]
  },
  {
   "cell_type": "code",
   "execution_count": 3,
   "id": "f1310e09",
   "metadata": {},
   "outputs": [
    {
     "name": "stdout",
     "output_type": "stream",
     "text": [
      "enter the number to ckeck:3\n"
     ]
    },
    {
     "data": {
      "text/plain": [
       "False"
      ]
     },
     "execution_count": 3,
     "metadata": {},
     "output_type": "execute_result"
    }
   ],
   "source": [
    "#11.Create a function that takes a number and returns True if the \n",
    "#number is automorphic, False if it isn't\n",
    "\n",
    "\n",
    "def automorphic(x=5):\n",
    "    square=x**2\n",
    "    s=str(square)\n",
    "    if(str(x)==s[-1]):\n",
    "        return True\n",
    "    else:\n",
    "        return False\n",
    "num=int(input(\"enter the number to ckeck:\"))\n",
    "automorphic(num)\n",
    "    "
   ]
  },
  {
   "cell_type": "code",
   "execution_count": 6,
   "id": "6e4b0862",
   "metadata": {},
   "outputs": [
    {
     "name": "stdout",
     "output_type": "stream",
     "text": [
      "enter the string: make me smile\n"
     ]
    },
    {
     "data": {
      "text/plain": [
       "'make me :D'"
      ]
     },
     "execution_count": 6,
     "metadata": {},
     "output_type": "execute_result"
    }
   ],
   "source": [
    "#13.Create a function that changes specific words into emoticons. \n",
    "#Given a sentence as a string, replace the words smile, grin, sad and mad \n",
    "#with their corresponding emoticons.\n",
    "\n",
    "def emoji(s):\n",
    "    l=s.split()\n",
    "    for i in l:\n",
    "        if(i==\"smile\"):\n",
    "            s=s.replace(\"smile\",\":D\")\n",
    "        elif(i==\"sad\"):\n",
    "            s=s.replace(\"sad\",\":(\")\n",
    "        elif(i==\"grin\"):\n",
    "            s=replace(\"sad\",\":)\")\n",
    "        elif(i==\"mad\"):\n",
    "            s=s.replace(\"sad\",\":p\")\n",
    "    return s\n",
    "string=input(\"enter the string: \")\n",
    "emoji(string)\n"
   ]
  },
  {
   "cell_type": "code",
   "execution_count": 7,
   "id": "daf1e283",
   "metadata": {},
   "outputs": [
    {
     "name": "stdout",
     "output_type": "stream",
     "text": [
      "enter a string to check: 4\n"
     ]
    },
    {
     "data": {
      "text/plain": [
       "True"
      ]
     },
     "execution_count": 7,
     "metadata": {},
     "output_type": "execute_result"
    }
   ],
   "source": [
    "#15.Write a Python program to check whether a given string is number \n",
    "#or not using Lambda\n",
    "k=input(\"enter a string to check: \")\n",
    "num=lambda x:x.isdigit() \n",
    "num(k)\n",
    "    \n",
    "\n",
    "\n",
    "\n",
    "\n"
   ]
  },
  {
   "cell_type": "code",
   "execution_count": null,
   "id": "43c7808e",
   "metadata": {},
   "outputs": [],
   "source": []
  }
 ],
 "metadata": {
  "kernelspec": {
   "display_name": "Python 3 (ipykernel)",
   "language": "python",
   "name": "python3"
  },
  "language_info": {
   "codemirror_mode": {
    "name": "ipython",
    "version": 3
   },
   "file_extension": ".py",
   "mimetype": "text/x-python",
   "name": "python",
   "nbconvert_exporter": "python",
   "pygments_lexer": "ipython3",
   "version": "3.9.13"
  }
 },
 "nbformat": 4,
 "nbformat_minor": 5
}
