{
 "cells": [
  {
   "cell_type": "code",
   "execution_count": 1,
   "id": "eaa3e93b",
   "metadata": {},
   "outputs": [
    {
     "name": "stdout",
     "output_type": "stream",
     "text": [
      "enter the number:1\n",
      "1\n",
      "2\n",
      "3\n",
      "4\n",
      "5\n",
      "6\n"
     ]
    }
   ],
   "source": [
    "#1.Write a Python program to loop through all the elements in a list\n",
    "n=int(input(\"enter the number:\"))\n",
    "for i in range(1,7):\n",
    "    print(i)\n"
   ]
  },
  {
   "cell_type": "code",
   "execution_count": 1,
   "id": "16e25025",
   "metadata": {},
   "outputs": [
    {
     "name": "stdout",
     "output_type": "stream",
     "text": [
      "enter the number:3\n",
      "4\n",
      "4\n",
      "5\n",
      "5\n",
      "6\n",
      "6\n"
     ]
    }
   ],
   "source": [
    "#2.Write a Python program where you will ask the users to insert elements in a list\n",
    "l=[]\n",
    "n=int(input(\"enter the number:\"))\n",
    "for i in range(0,n):\n",
    "    n=int(input())\n",
    "    l.append(n)\n",
    "    print(n)\n",
    "\n",
    "\n",
    "\n",
    "\n"
   ]
  },
  {
   "cell_type": "code",
   "execution_count": 18,
   "id": "8cafa6fc",
   "metadata": {},
   "outputs": [
    {
     "name": "stdout",
     "output_type": "stream",
     "text": [
      "enter the number:6\n",
      "1\n",
      "2\n",
      "3\n",
      "4\n",
      "5\n",
      "6\n",
      "[1, 2, 3, 4, 5, 6]\n",
      "[2, 4, 6]\n"
     ]
    }
   ],
   "source": [
    "#3.Write a Python program to remove all the odd index value from a list and only even \n",
    "#index elements should remain\n",
    "l=[]\n",
    "n=int(input(\"enter the number:\"))\n",
    "for i in range(0,n):\n",
    "    n=int(input())\n",
    "    l.append(n)\n",
    "print(l)\n",
    "li=[]\n",
    "for i in range(len(l)):\n",
    "    if(i%2!=0):\n",
    "        li.append(l[i])\n",
    "print(li)\n"
   ]
  },
  {
   "cell_type": "code",
   "execution_count": 27,
   "id": "7a9f1067",
   "metadata": {},
   "outputs": [
    {
     "name": "stdout",
     "output_type": "stream",
     "text": [
      "enter the number:2\n",
      "3\n",
      "4\n",
      "[3, 4]\n",
      "7\n",
      "12\n"
     ]
    }
   ],
   "source": [
    "#4.. Write a Python program to sum and multiply all the items in a list\n",
    "l=[]\n",
    "n=int(input(\"enter the number:\"))\n",
    "for i in range(0,n):\n",
    "    n=int(input())\n",
    "    l.append(n)\n",
    "print(l)\n",
    "li=[]\n",
    "sum=0\n",
    "product=1\n",
    "for i in l:\n",
    "    sum=sum+i\n",
    "    product=product*i\n",
    "print(sum)\n",
    "print(product)\n",
    "\n",
    "\n"
   ]
  },
  {
   "cell_type": "code",
   "execution_count": 6,
   "id": "2cf93db6",
   "metadata": {},
   "outputs": [
    {
     "name": "stdout",
     "output_type": "stream",
     "text": [
      "90\n",
      "4\n"
     ]
    }
   ],
   "source": [
    "#5.. Write a Python program to get the maximum and minimum numbers from a list\n",
    "m=(8,4,11,7,90)\n",
    "max(m)\n",
    "min(m)\n",
    "print(max(m))\n",
    "print(min(m))\n",
    "\n",
    "\n",
    "\n"
   ]
  },
  {
   "cell_type": "code",
   "execution_count": 3,
   "id": "f19ed8e2",
   "metadata": {},
   "outputs": [
    {
     "name": "stdout",
     "output_type": "stream",
     "text": [
      "['green', 'white', 'black']\n"
     ]
    }
   ],
   "source": [
    "#6.Write a Python program to print a specified list after removing the 0th, 4th and 5th \n",
    "#elements.\n",
    "l=[\"red\",\"green\",\"white\",\"black\",\"pink\",\"yellow\"]\n",
    "li=[]\n",
    "for i in range(6):\n",
    "    if(i!=0) and (i!=4) and (i!=5):\n",
    "        li.append(l[i])\n",
    "print(li)\n",
    "\n",
    "\n",
    "\n",
    "\n"
   ]
  },
  {
   "cell_type": "code",
   "execution_count": 8,
   "id": "dc5dda77",
   "metadata": {},
   "outputs": [
    {
     "name": "stdout",
     "output_type": "stream",
     "text": [
      "katyayani\n"
     ]
    }
   ],
   "source": [
    "#7.Write a Python program to convert a list of characters into a string\n",
    "n=(\"k\",\"a\",\"t\",\"y\",\"a\",\"y\",\"a\",\"n\",\"i\")\n",
    "string=''.join(n)\n",
    "print(string)"
   ]
  },
  {
   "cell_type": "code",
   "execution_count": 13,
   "id": "dca12e6b",
   "metadata": {},
   "outputs": [
    {
     "name": "stdout",
     "output_type": "stream",
     "text": [
      "enter the number:2\n",
      "3\n",
      "4\n",
      "[3, 4]\n",
      "3.5\n"
     ]
    }
   ],
   "source": [
    "#8. Write a Python program to compute average of given list\n",
    "l=[]\n",
    "n=int(input(\"enter the number:\"))\n",
    "for i in range(0,n):\n",
    "    n=int(input())\n",
    "    l.append(n)\n",
    "print(l)\n",
    "li=[]\n",
    "s=0\n",
    "avg=0\n",
    "length=len(l)\n",
    "for i in l:\n",
    "    s=s+i\n",
    "avg=s/length\n",
    "print(avg)\n",
    "\n",
    "\n",
    "\n",
    "\n"
   ]
  },
  {
   "cell_type": "code",
   "execution_count": 24,
   "id": "769657b2",
   "metadata": {},
   "outputs": [
    {
     "name": "stdout",
     "output_type": "stream",
     "text": [
      "enter the number:5\n",
      "s\n",
      "2\n",
      "3\n",
      "st\n",
      "4\n",
      "['s', '2', '3', 'st', '4']\n",
      "3\n"
     ]
    }
   ],
   "source": [
    "#9.Write a Python program to count integer in a given mixed list.\n",
    "\n",
    "l=[]\n",
    "n=int(input(\"enter the number:\"))\n",
    "for i in range(0,n):\n",
    "    n=input()\n",
    "    l.append(n)\n",
    "print(l)\n",
    "count=0\n",
    "for i in l:\n",
    "    if(i.isdigit()):\n",
    "        count=count+1\n",
    "print(count)"
   ]
  },
  {
   "cell_type": "code",
   "execution_count": 5,
   "id": "15ffbf2c",
   "metadata": {},
   "outputs": [
    {
     "name": "stdout",
     "output_type": "stream",
     "text": [
      "enter the number:5\n",
      "6\n",
      "7\n",
      "8\n",
      "9\n",
      "9\n",
      "[6, 7, 8, 9, 9]\n",
      "[9, 9, 8, 7, 6]\n"
     ]
    }
   ],
   "source": [
    "#10.Write a Python program to reverse the list\n",
    "l=[]\n",
    "n=int(input(\"enter the number:\"))\n",
    "for i in range(0,n):\n",
    "    n=int(input())\n",
    "    l.append(n)\n",
    "print(l)\n",
    "li=[]\n",
    "l.reverse()\n",
    "print(l)\n",
    "    \n",
    "\n",
    "\n",
    "\n"
   ]
  },
  {
   "cell_type": "code",
   "execution_count": 7,
   "id": "2c1a425a",
   "metadata": {},
   "outputs": [
    {
     "name": "stdout",
     "output_type": "stream",
     "text": [
      "('p', 'y', 't', 'h', 'o', 'n', '1', '.', '2')\n"
     ]
    }
   ],
   "source": [
    "#11.Write a Python program convert a given string to a tuple\n",
    "def string_to_tuple(input):\n",
    "    c= [char for char in input]\n",
    "    c= tuple(c)\n",
    "    return c\n",
    "\n",
    "input= \"python1.2\"\n",
    "o = string_to_tuple(input)\n",
    "print(o)\n",
    "     \n",
    "\n",
    "\n",
    "\n",
    "\n",
    "\n",
    "\n",
    "\n"
   ]
  },
  {
   "cell_type": "code",
   "execution_count": null,
   "id": "fcc4c17b",
   "metadata": {},
   "outputs": [],
   "source": []
  }
 ],
 "metadata": {
  "kernelspec": {
   "display_name": "Python 3 (ipykernel)",
   "language": "python",
   "name": "python3"
  },
  "language_info": {
   "codemirror_mode": {
    "name": "ipython",
    "version": 3
   },
   "file_extension": ".py",
   "mimetype": "text/x-python",
   "name": "python",
   "nbconvert_exporter": "python",
   "pygments_lexer": "ipython3",
   "version": "3.9.13"
  }
 },
 "nbformat": 4,
 "nbformat_minor": 5
}
