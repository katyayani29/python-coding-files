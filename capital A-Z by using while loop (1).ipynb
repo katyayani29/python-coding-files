{
 "cells": [
  {
   "cell_type": "code",
   "execution_count": 12,
   "id": "c5d11b9d",
   "metadata": {},
   "outputs": [
    {
     "name": "stdout",
     "output_type": "stream",
     "text": [
      " ######\n",
      "#     #\n",
      "#  #  #\n",
      "#     #\n",
      "#     #\n"
     ]
    }
   ],
   "source": [
    "x=1\n",
    "while x<=5:\n",
    "    if x==1:\n",
    "        print(\" ######\")\n",
    "    elif (x==2) or (x==4) or (x==5):\n",
    "        print(\"#     #\")\n",
    "    else:\n",
    "        print(\"#  #  #\")\n",
    "    x=x+1\n"
   ]
  },
  {
   "cell_type": "code",
   "execution_count": 22,
   "id": "58dafb26",
   "metadata": {},
   "outputs": [
    {
     "name": "stdout",
     "output_type": "stream",
     "text": [
      "####\n",
      "#   #\n",
      "#####\n",
      "#   #\n",
      "####\n"
     ]
    }
   ],
   "source": [
    "x=1\n",
    "while x<=5:\n",
    "    if x==1 or x==5:\n",
    "        print(\"####\")\n",
    "    elif(x==2) or (x==4) :\n",
    "        print(\"#   #\")\n",
    "    else:\n",
    "        print(\"#####\")\n",
    "    x=x+1"
   ]
  },
  {
   "cell_type": "markdown",
   "id": "f1568e7e",
   "metadata": {},
   "source": []
  },
  {
   "cell_type": "code",
   "execution_count": 27,
   "id": "c09772c6",
   "metadata": {},
   "outputs": [
    {
     "name": "stdout",
     "output_type": "stream",
     "text": [
      "####\n",
      "#\n",
      "#\n",
      "####\n"
     ]
    }
   ],
   "source": [
    "x=1\n",
    "while x<=5:\n",
    "    if x==1 or x==5:\n",
    "        print(\"####\")\n",
    "    elif (x==2)or(x==3):\n",
    "        print(\"#\")\n",
    "    x=x+1    \n",
    "        "
   ]
  },
  {
   "cell_type": "code",
   "execution_count": 30,
   "id": "7d6ccc2b",
   "metadata": {},
   "outputs": [
    {
     "name": "stdout",
     "output_type": "stream",
     "text": [
      "####\n",
      "#    #\n",
      "#    #\n",
      "#    #\n",
      "####\n"
     ]
    }
   ],
   "source": [
    "x=1\n",
    "while x<=5:\n",
    "    if x==1 or x==5:\n",
    "        print(\"####\")\n",
    "    elif (x==2) or (x==3) or (x==4):\n",
    "        print(\"#    #\")\n",
    "    x=x+1    "
   ]
  },
  {
   "cell_type": "code",
   "execution_count": 31,
   "id": "60f67a25",
   "metadata": {},
   "outputs": [
    {
     "name": "stdout",
     "output_type": "stream",
     "text": [
      "####\n",
      "#\n",
      "####\n",
      "#\n",
      "####\n"
     ]
    }
   ],
   "source": [
    "x=1\n",
    "while x<=5:\n",
    "    if x==1 or x==3 or x==5:\n",
    "        print(\"####\")\n",
    "    elif (x==2) or (x==4):\n",
    "        print(\"#\")\n",
    "    x=x+1    \n",
    "    \n",
    "    \n",
    "        "
   ]
  },
  {
   "cell_type": "code",
   "execution_count": 32,
   "id": "814383fd",
   "metadata": {},
   "outputs": [
    {
     "name": "stdout",
     "output_type": "stream",
     "text": [
      "#####\n",
      "#\n",
      "#####\n",
      "#\n",
      "#\n"
     ]
    }
   ],
   "source": [
    "x=1\n",
    "while x<=5:\n",
    "    if x==1 or x==3:\n",
    "        print(\"#####\")\n",
    "    elif(x==2) or (x==4) or (x==5):\n",
    "        print(\"#\")\n",
    "    x=x+1    \n",
    "        "
   ]
  },
  {
   "cell_type": "code",
   "execution_count": 46,
   "id": "ec6d3dff",
   "metadata": {},
   "outputs": [
    {
     "name": "stdout",
     "output_type": "stream",
     "text": [
      "#####\n",
      "#\n",
      "#   #  #\n",
      "#      #\n",
      "#####  #\n"
     ]
    }
   ],
   "source": [
    "x=1\n",
    "while x<=7:\n",
    "    if x==1:\n",
    "        print(\"#####\")\n",
    "    elif(x==2):\n",
    "        print(\"#\")\n",
    "    elif(x==3):\n",
    "        print(\"#   #  #\")\n",
    "    elif(x==4):\n",
    "        print(\"#      #\")\n",
    "    elif x==5:\n",
    "        print(\"#####  #\")\n",
    "    x=x+1    "
   ]
  },
  {
   "cell_type": "code",
   "execution_count": 54,
   "id": "cb69c131",
   "metadata": {},
   "outputs": [
    {
     "name": "stdout",
     "output_type": "stream",
     "text": [
      "#    #\n",
      "#    #\n",
      "######\n",
      "#    #\n",
      "#    #\n"
     ]
    }
   ],
   "source": [
    "x=1\n",
    "while x<=7:\n",
    "    if(x==1) or (x==2) or (x==4) or (x==5):\n",
    "        print(\"#    #\")\n",
    "    elif (x==3):\n",
    "        print(\"######\")\n",
    "    x=x+1    \n",
    "    "
   ]
  },
  {
   "cell_type": "code",
   "execution_count": 55,
   "id": "12575b0a",
   "metadata": {},
   "outputs": [
    {
     "name": "stdout",
     "output_type": "stream",
     "text": [
      "#####\n",
      "  #  \n",
      "  #  \n",
      "  #  \n",
      "#####\n"
     ]
    }
   ],
   "source": [
    "x=1\n",
    "while x<=7:\n",
    "    if(x==1)or(x==5):\n",
    "        print(\"#####\")\n",
    "    elif(x==2)or(x==3)or(x==4):\n",
    "        print(\"  #  \")\n",
    "    x=x+1   "
   ]
  },
  {
   "cell_type": "code",
   "execution_count": 60,
   "id": "e6d2da9d",
   "metadata": {},
   "outputs": [
    {
     "name": "stdout",
     "output_type": "stream",
     "text": [
      "######\n",
      "   #  \n",
      "   #  \n",
      "   #  \n",
      "#  #\n",
      "#  #\n",
      " ## \n"
     ]
    }
   ],
   "source": [
    "x=1\n",
    "while x<=7:\n",
    "    if(x==2) or (x==3) or (x==4):\n",
    "        print(\"   #  \")\n",
    "    elif(x==1):\n",
    "        print(\"######\")\n",
    "    elif(x==5) or (x==6):\n",
    "        print(\"#  #\")\n",
    "    elif(x==7):\n",
    "        print(\" ## \")\n",
    "    x=x+1    \n",
    "        "
   ]
  },
  {
   "cell_type": "code",
   "execution_count": 63,
   "id": "336e370a",
   "metadata": {},
   "outputs": [
    {
     "name": "stdout",
     "output_type": "stream",
     "text": [
      "#     #\n",
      "#   #\n",
      "# #\n",
      "#   #\n",
      "#     #\n"
     ]
    }
   ],
   "source": [
    "x=1\n",
    "while x<=7:\n",
    "    if(x==1) or (x==5):\n",
    "        print(\"#     #\")\n",
    "    elif(x==2) or (x==4):\n",
    "        print(\"#   #\")\n",
    "    elif(x==3):\n",
    "        print(\"# #\")\n",
    "    x=x+1    "
   ]
  },
  {
   "cell_type": "code",
   "execution_count": 64,
   "id": "6714f9d1",
   "metadata": {},
   "outputs": [
    {
     "name": "stdout",
     "output_type": "stream",
     "text": [
      "#\n",
      "#\n",
      "#\n",
      "#\n",
      "#####\n"
     ]
    }
   ],
   "source": [
    "x=1\n",
    "while x<=7:\n",
    "    if (x==1) or (x==2) or (x==3) or (x==4):\n",
    "        print(\"#\")\n",
    "    elif(x==5):\n",
    "        print(\"#####\")\n",
    "    x=x+1    "
   ]
  },
  {
   "cell_type": "code",
   "execution_count": 76,
   "id": "a4d59d7d",
   "metadata": {},
   "outputs": [
    {
     "name": "stdout",
     "output_type": "stream",
     "text": [
      "#      #\n",
      "# #  # #\n",
      "#  #   #\n",
      "#      #\n",
      "#      #\n"
     ]
    }
   ],
   "source": [
    "x=1\n",
    "while x<=7:\n",
    "    if(x==1) or (x==4) or (x==5):\n",
    "        print(\"#      #\")\n",
    "    elif (x==3):\n",
    "        print(\"#  #   #\")\n",
    "    elif(x==4):\n",
    "        print(\"    #  \")\n",
    "    elif(x==2):\n",
    "        print(\"# #  # #\")\n",
    "    x=x+1    \n",
    "        "
   ]
  },
  {
   "cell_type": "code",
   "execution_count": 83,
   "id": "fa55250a",
   "metadata": {},
   "outputs": [
    {
     "name": "stdout",
     "output_type": "stream",
     "text": [
      "#      #\n",
      "# #    #\n",
      "#   #  #\n",
      "#     ## \n",
      "#      #\n"
     ]
    }
   ],
   "source": [
    "x=1\n",
    "while x<=7:\n",
    "    if (x==1) or (x==5):\n",
    "        print(\"#      #\")\n",
    "    elif(x==2):\n",
    "        print(\"# #    #\")\n",
    "    elif(x==3):\n",
    "        print(\"#   #  #\")\n",
    "    elif(x==4):\n",
    "        print(\"#     ## \")\n",
    "    x=x+1    "
   ]
  },
  {
   "cell_type": "code",
   "execution_count": 90,
   "id": "cd18536d",
   "metadata": {},
   "outputs": [
    {
     "name": "stdout",
     "output_type": "stream",
     "text": [
      " #####\n",
      "#     #\n",
      "#     #\n",
      "#     #\n",
      " #####\n"
     ]
    }
   ],
   "source": [
    "x=1\n",
    "while x<=7:\n",
    "    if(x==1) or (x==5):\n",
    "        print(\" #####\")\n",
    "    elif (x==2) or (x==3) or (x==4):\n",
    "        print(\"#     #\")\n",
    "    x=x+1    "
   ]
  },
  {
   "cell_type": "code",
   "execution_count": 91,
   "id": "41d38137",
   "metadata": {},
   "outputs": [
    {
     "name": "stdout",
     "output_type": "stream",
     "text": [
      "#####\n",
      "#   #\n",
      "#####\n",
      "#\n",
      "#\n"
     ]
    }
   ],
   "source": [
    "x=1\n",
    "while x<=7:\n",
    "    if(x==1) or (x==3):\n",
    "        print(\"#####\")\n",
    "    elif(x==2):\n",
    "        print(\"#   #\")\n",
    "    elif(x==4) or (x==5):\n",
    "        print(\"#\")\n",
    "    x=x+1    "
   ]
  },
  {
   "cell_type": "code",
   "execution_count": 1,
   "id": "773d238d",
   "metadata": {},
   "outputs": [
    {
     "name": "stdout",
     "output_type": "stream",
     "text": [
      "#######\n",
      "#     #\n",
      "#  #  #\n",
      "#    ##\n",
      "########\n",
      "        ##\n"
     ]
    }
   ],
   "source": [
    "x=1\n",
    "while x<=7:\n",
    "    if(x==1):\n",
    "        print(\"#######\")\n",
    "    elif(x==2):\n",
    "        print(\"#     #\")\n",
    "    elif(x==3):\n",
    "        print(\"#  #  #\")\n",
    "    elif(x==4):\n",
    "        print(\"#    ##\")\n",
    "    elif(x==6):\n",
    "        print(\"        ##\")\n",
    "    elif(x==5):\n",
    "        print(\"########\")\n",
    "    x=x+1    "
   ]
  },
  {
   "cell_type": "code",
   "execution_count": 113,
   "id": "bf01b410",
   "metadata": {},
   "outputs": [
    {
     "name": "stdout",
     "output_type": "stream",
     "text": [
      "#####\n",
      "#    #\n",
      "#####\n",
      "#  #\n",
      "#    #\n"
     ]
    }
   ],
   "source": [
    "x=1\n",
    "while x<=7:\n",
    "    if(x==1) or (x==3):\n",
    "        print(\"#####\")\n",
    "    elif(x==2) or (x==5):\n",
    "        print(\"#    #\")\n",
    "    elif(x==4):\n",
    "        print(\"#  #\")\n",
    "    x=x+1    "
   ]
  },
  {
   "cell_type": "code",
   "execution_count": 1,
   "id": "d881439c",
   "metadata": {},
   "outputs": [
    {
     "name": "stdout",
     "output_type": "stream",
     "text": [
      "#####\n",
      "#\n",
      "#####\n",
      "    #\n",
      "#####\n"
     ]
    }
   ],
   "source": [
    "x=1\n",
    "while x<=7:\n",
    "    if (x==1) or (x==3) or (x==5):\n",
    "        print(\"#####\")\n",
    "    elif (x==2):\n",
    "        print(\"#\")\n",
    "    elif(x==4):\n",
    "        print(\"    #\")\n",
    "    x=x+1    "
   ]
  },
  {
   "cell_type": "code",
   "execution_count": 117,
   "id": "fde959ed",
   "metadata": {},
   "outputs": [
    {
     "name": "stdout",
     "output_type": "stream",
     "text": [
      "#######\n",
      "   #  \n",
      "   #  \n",
      "   #  \n"
     ]
    }
   ],
   "source": [
    "x=1\n",
    "while x<=7:\n",
    "    if (x==1):\n",
    "        print(\"#######\")\n",
    "    elif (x==2) or (x==3) or (x==4):\n",
    "        print(\"   #  \")\n",
    "    x=x+1    "
   ]
  },
  {
   "cell_type": "code",
   "execution_count": 120,
   "id": "30b47b2b",
   "metadata": {},
   "outputs": [
    {
     "name": "stdout",
     "output_type": "stream",
     "text": [
      "#      #\n",
      "#      #\n",
      "#      #\n",
      "########\n"
     ]
    }
   ],
   "source": [
    "x=1\n",
    "while x<=7:\n",
    "    if (x==1) or (x==2) or (x==3):\n",
    "        print(\"#      #\")\n",
    "    elif (x==4):\n",
    "        print(\"########\")\n",
    "    x=x+1    "
   ]
  },
  {
   "cell_type": "code",
   "execution_count": 122,
   "id": "de5c3fb6",
   "metadata": {},
   "outputs": [
    {
     "name": "stdout",
     "output_type": "stream",
     "text": [
      "#        #\n",
      "  #     #\n",
      "    #  #\n",
      "      #  \n"
     ]
    }
   ],
   "source": [
    "x=1\n",
    "while x<=7:\n",
    "    if (x==1):\n",
    "        print(\"#        #\")\n",
    "    elif(x==2):\n",
    "        print(\"  #     #\" )\n",
    "    elif(x==3):\n",
    "        print(\"    #  #\"  )\n",
    "    elif(x==4):\n",
    "        print(\"      #  \")\n",
    "    x=x+1    "
   ]
  },
  {
   "cell_type": "code",
   "execution_count": 126,
   "id": "bb9bf4ef",
   "metadata": {},
   "outputs": [
    {
     "name": "stdout",
     "output_type": "stream",
     "text": [
      "#       #\n",
      "#       #\n",
      "#   #   #\n",
      "# #   # #\n",
      "#       #\n"
     ]
    }
   ],
   "source": [
    "x=1\n",
    "while x<=7:\n",
    "    if (x==1) or (x==2):\n",
    "        print(\"#       #\")\n",
    "    elif(x==3):\n",
    "        print(\"#   #   #\")\n",
    "    elif(x==4):\n",
    "        print(\"# #   # #\")\n",
    "    elif(x==5):\n",
    "        print(\"#       #\")\n",
    "    x=x+1    "
   ]
  },
  {
   "cell_type": "code",
   "execution_count": 132,
   "id": "68a3dd38",
   "metadata": {},
   "outputs": [
    {
     "name": "stdout",
     "output_type": "stream",
     "text": [
      "#         #\n",
      "  #     #\n",
      "     #   \n",
      "  #     #\n",
      "#         #\n"
     ]
    }
   ],
   "source": [
    "x=1\n",
    "while x<=7:\n",
    "    if (x==1) or (x==5):\n",
    "        print(\"#         #\")\n",
    "    elif (x==2)or (x==4):\n",
    "        print(\"  #     #\")\n",
    "    elif(x==3):\n",
    "        print(\"     #   \")\n",
    "    x=x+1"
   ]
  },
  {
   "cell_type": "code",
   "execution_count": 140,
   "id": "68dacf2b",
   "metadata": {},
   "outputs": [
    {
     "name": "stdout",
     "output_type": "stream",
     "text": [
      "#      #\n",
      "  #  #\n",
      "    #\n",
      "  #\n",
      "#\n"
     ]
    }
   ],
   "source": [
    "x=1\n",
    "while x<=5:\n",
    "    if (x==1):\n",
    "        print(\"#      #\")\n",
    "    elif(x==2):\n",
    "        print(\"  #  #\")\n",
    "    elif(x==3):\n",
    "        print(\"    #\")\n",
    "    elif(x==4):\n",
    "        print(\"  #\")\n",
    "    else:\n",
    "        print(\"#\")\n",
    "    x=x+1   "
   ]
  },
  {
   "cell_type": "code",
   "execution_count": 151,
   "id": "696da561",
   "metadata": {},
   "outputs": [
    {
     "name": "stdout",
     "output_type": "stream",
     "text": [
      "#####\n",
      "   #\n",
      "  #\n",
      " #\n",
      "#####\n"
     ]
    }
   ],
   "source": [
    "x=1\n",
    "while x<=5:\n",
    "    if(x==1) or (x==5):\n",
    "        print(\"#####\")\n",
    "    elif(x==2):\n",
    "        print(\"   #\")\n",
    "    elif(x==3):\n",
    "        print(\"  #\")\n",
    "    else:\n",
    "        print(\" #\")\n",
    "    x=x+1    "
   ]
  },
  {
   "cell_type": "code",
   "execution_count": null,
   "id": "f8db8f26",
   "metadata": {},
   "outputs": [],
   "source": []
  }
 ],
 "metadata": {
  "kernelspec": {
   "display_name": "Python 3 (ipykernel)",
   "language": "python",
   "name": "python3"
  },
  "language_info": {
   "codemirror_mode": {
    "name": "ipython",
    "version": 3
   },
   "file_extension": ".py",
   "mimetype": "text/x-python",
   "name": "python",
   "nbconvert_exporter": "python",
   "pygments_lexer": "ipython3",
   "version": "3.9.13"
  }
 },
 "nbformat": 4,
 "nbformat_minor": 5
}
