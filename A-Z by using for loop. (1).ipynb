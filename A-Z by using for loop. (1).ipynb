{
 "cells": [
  {
   "cell_type": "code",
   "execution_count": 3,
   "id": "13c40e0e",
   "metadata": {},
   "outputs": [
    {
     "name": "stdout",
     "output_type": "stream",
     "text": [
      "#####\n",
      "#   #\n",
      "# # #\n",
      "#   #\n",
      "#   #\n"
     ]
    }
   ],
   "source": [
    "k=\"12345\"\n",
    "for i in k:\n",
    "    if(i==\"1\"):\n",
    "        print(\"#####\")\n",
    "    elif(i==\"2\") or (i==\"4\") or (i==\"5\"):\n",
    "        print(\"#   #\")\n",
    "    else:\n",
    "        print(\"# # #\")\n",
    "    "
   ]
  },
  {
   "cell_type": "code",
   "execution_count": 7,
   "id": "2ad0d0c0",
   "metadata": {},
   "outputs": [
    {
     "name": "stdout",
     "output_type": "stream",
     "text": [
      "####\n",
      "#   #\n",
      "#####\n",
      "#   #\n",
      "####\n"
     ]
    }
   ],
   "source": [
    "k=\"12345\"\n",
    "for j in k:\n",
    "    if (j==\"1\") or (j==\"5\"):\n",
    "        print(\"####\")\n",
    "    elif(j==\"2\") or (j==\"4\") :\n",
    "        print(\"#   #\")\n",
    "    else:\n",
    "        print(\"#####\")\n",
    "    \n",
    "    "
   ]
  },
  {
   "cell_type": "code",
   "execution_count": 8,
   "id": "f69e7784",
   "metadata": {},
   "outputs": [
    {
     "name": "stdout",
     "output_type": "stream",
     "text": [
      "####\n",
      "#\n",
      "#\n",
      "####\n"
     ]
    }
   ],
   "source": [
    "k=\"12345\"\n",
    "for j in k:\n",
    "    if (j==\"1\") or (j==\"5\"):\n",
    "        print(\"####\")\n",
    "    elif (j==\"3\") or (j==\"4\"):\n",
    "        print(\"#\")\n",
    "        \n",
    "          \n",
    "        "
   ]
  },
  {
   "cell_type": "code",
   "execution_count": 9,
   "id": "4b25def2",
   "metadata": {},
   "outputs": [
    {
     "name": "stdout",
     "output_type": "stream",
     "text": [
      "####\n",
      "#    #\n",
      "#    #\n",
      "#    #\n",
      "####\n"
     ]
    }
   ],
   "source": [
    "k=\"12345\"\n",
    "for j in k:\n",
    "    if (j==\"1\") or (j==\"5\"):\n",
    "        print(\"####\")\n",
    "    elif (j==\"2\") or (j==\"3\") or (j==\"4\"):\n",
    "        print(\"#    #\")\n",
    "        "
   ]
  },
  {
   "cell_type": "code",
   "execution_count": 10,
   "id": "52a290d6",
   "metadata": {},
   "outputs": [
    {
     "name": "stdout",
     "output_type": "stream",
     "text": [
      "####\n",
      "#\n",
      "####\n",
      "#\n",
      "####\n"
     ]
    }
   ],
   "source": [
    "j=\"12345\"\n",
    "for j in k:\n",
    "    if (j==\"1\") or (j==\"3\") or (j==\"5\"):\n",
    "        print(\"####\")\n",
    "    elif (j==\"2\") or (j==\"4\"):\n",
    "        print(\"#\")\n",
    "        "
   ]
  },
  {
   "cell_type": "code",
   "execution_count": 11,
   "id": "20918c7b",
   "metadata": {},
   "outputs": [
    {
     "name": "stdout",
     "output_type": "stream",
     "text": [
      "#####\n",
      "#\n",
      "#####\n",
      "#\n",
      "#\n"
     ]
    }
   ],
   "source": [
    "j=\"12345\"\n",
    "for k in j:\n",
    "    if (k==\"1\") or (k==\"3\"):\n",
    "        print(\"#####\")\n",
    "    elif(k==\"2\") or (k==\"4\") or (k==\"5\"):\n",
    "        print(\"#\")\n",
    "   \n",
    "        "
   ]
  },
  {
   "cell_type": "code",
   "execution_count": 12,
   "id": "492d745c",
   "metadata": {},
   "outputs": [
    {
     "name": "stdout",
     "output_type": "stream",
     "text": [
      "#####\n",
      "#\n",
      "#   #  #\n",
      "#      #\n",
      "#####  #\n"
     ]
    }
   ],
   "source": [
    "j=\"12345\"\n",
    "for k in j:\n",
    "    if (k==\"1\"):\n",
    "        print(\"#####\")\n",
    "    elif(k==\"2\"):\n",
    "        print(\"#\")\n",
    "    elif(k==\"3\"):\n",
    "        print(\"#   #  #\")\n",
    "    elif(k==\"4\"):\n",
    "        print(\"#      #\")\n",
    "    elif (k==\"5\"):\n",
    "        print(\"#####  #\")  "
   ]
  },
  {
   "cell_type": "code",
   "execution_count": 13,
   "id": "5971575e",
   "metadata": {},
   "outputs": [
    {
     "name": "stdout",
     "output_type": "stream",
     "text": [
      "#    #\n",
      "#    #\n",
      "######\n",
      "#    #\n",
      "#    #\n"
     ]
    }
   ],
   "source": [
    "y=\"12345\"\n",
    "for x in y:\n",
    "    if(x==\"1\") or (x==\"2\") or (x==\"4\") or (x==\"5\"):\n",
    "        print(\"#    #\")\n",
    "    elif (x==\"3\"):\n",
    "        print(\"######\")\n",
    "       \n",
    "    "
   ]
  },
  {
   "cell_type": "code",
   "execution_count": 15,
   "id": "b5252888",
   "metadata": {},
   "outputs": [
    {
     "name": "stdout",
     "output_type": "stream",
     "text": [
      "#####\n",
      "  #  \n",
      "  #  \n",
      "  #  \n",
      "#####\n"
     ]
    }
   ],
   "source": [
    "y=\"12345\"\n",
    "for x in y:\n",
    "    if(x==\"1\")or(x==\"5\"):\n",
    "        print(\"#####\")\n",
    "    elif(x==\"2\")or(x==\"3\")or(x==\"4\"):\n",
    "        print(\"  #  \")\n",
    "       "
   ]
  },
  {
   "cell_type": "code",
   "execution_count": 5,
   "id": "19574437",
   "metadata": {},
   "outputs": [
    {
     "name": "stdout",
     "output_type": "stream",
     "text": [
      "######\n",
      "   #  \n",
      "   #  \n",
      "   #  \n",
      "#  #\n",
      "#  #\n",
      " ## \n"
     ]
    }
   ],
   "source": [
    "x=\"1234567\"\n",
    "for y in x:\n",
    "    if(y==\"2\") or (y==\"3\") or (y==\"4\"):\n",
    "        print(\"   #  \")\n",
    "    elif(y==\"1\"):\n",
    "        print(\"######\")\n",
    "    elif(y==\"5\") or (y==\"6\"):\n",
    "        print(\"#  #\")\n",
    "    elif(y==\"7\"):\n",
    "        print(\" ## \")\n",
    "       "
   ]
  },
  {
   "cell_type": "code",
   "execution_count": 6,
   "id": "d70d1a9f",
   "metadata": {},
   "outputs": [
    {
     "name": "stdout",
     "output_type": "stream",
     "text": [
      "#     #\n",
      "#   #\n",
      "# #\n",
      "#   #\n",
      "#     #\n"
     ]
    }
   ],
   "source": [
    "y=\"12345\"\n",
    "for x in y:\n",
    "    if(x==\"1\") or (x==\"5\"):\n",
    "        print(\"#     #\")\n",
    "    elif(x==\"2\") or (x==\"4\"):\n",
    "        print(\"#   #\")\n",
    "    elif(x==\"3\"):\n",
    "        print(\"# #\")\n",
    "      "
   ]
  },
  {
   "cell_type": "code",
   "execution_count": 5,
   "id": "c55855d2",
   "metadata": {},
   "outputs": [
    {
     "name": "stdout",
     "output_type": "stream",
     "text": [
      "#\n",
      "#\n",
      "#\n",
      "#\n",
      "#####\n"
     ]
    }
   ],
   "source": [
    "y=\"12345\"\n",
    "for x in y:\n",
    "    if (x==\"1\") or (x==\"2\") or (x==\"3\") or (x==\"4\"):\n",
    "        print(\"#\")\n",
    "    elif(x==\"5\"):\n",
    "        print(\"#####\")\n",
    "     "
   ]
  },
  {
   "cell_type": "code",
   "execution_count": 6,
   "id": "c33b7a3a",
   "metadata": {},
   "outputs": [
    {
     "name": "stdout",
     "output_type": "stream",
     "text": [
      "#      #\n",
      "# #  # #\n",
      "#  #   #\n",
      "#      #\n",
      "#      #\n"
     ]
    }
   ],
   "source": [
    "y=\"12345\"\n",
    "for x in y:\n",
    "    if(x==\"1\") or (x==\"4\") or (x==\"5\"):\n",
    "        print(\"#      #\")\n",
    "    elif (x==\"3\"):\n",
    "        print(\"#  #   #\")\n",
    "    elif(x==\"4\"):\n",
    "        print(\"    #  \")\n",
    "    elif(x==\"2\"):\n",
    "        print(\"# #  # #\")\n",
    "      "
   ]
  },
  {
   "cell_type": "code",
   "execution_count": 7,
   "id": "27ba319d",
   "metadata": {},
   "outputs": [
    {
     "name": "stdout",
     "output_type": "stream",
     "text": [
      "#      #\n",
      "# #    #\n",
      "#   #  #\n",
      "#     ## \n",
      "#      #\n"
     ]
    }
   ],
   "source": [
    "y=\"12345\"\n",
    "for x in y:\n",
    "    if (x==\"1\") or (x==\"5\"):\n",
    "        print(\"#      #\")\n",
    "    elif(x==\"2\"):\n",
    "        print(\"# #    #\")\n",
    "    elif(x==\"3\"):\n",
    "        print(\"#   #  #\")\n",
    "    elif(x==\"4\"):\n",
    "        print(\"#     ## \")\n",
    "       "
   ]
  },
  {
   "cell_type": "code",
   "execution_count": 9,
   "id": "c885582e",
   "metadata": {},
   "outputs": [
    {
     "name": "stdout",
     "output_type": "stream",
     "text": [
      " #####\n",
      "#     #\n",
      "#     #\n",
      "#     #\n",
      " #####\n"
     ]
    }
   ],
   "source": [
    "y=\"12345\"\n",
    "for x in y:\n",
    "    if(x==\"1\") or (x==\"5\"):\n",
    "        print(\" #####\")\n",
    "    elif (x==\"2\") or (x==\"3\") or (x==\"4\"):\n",
    "        print(\"#     #\")    "
   ]
  },
  {
   "cell_type": "code",
   "execution_count": 10,
   "id": "d8a68100",
   "metadata": {},
   "outputs": [
    {
     "name": "stdout",
     "output_type": "stream",
     "text": [
      "#####\n",
      "#   #\n",
      "#####\n",
      "#\n",
      "#\n"
     ]
    }
   ],
   "source": [
    "y=\"12345\"\n",
    "for x in y:\n",
    "    if(x==\"1\") or (x==\"3\"):\n",
    "        print(\"#####\")\n",
    "    elif(x==\"2\"):\n",
    "        print(\"#   #\")\n",
    "    elif(x==\"4\") or (x==\"5\"):\n",
    "        print(\"#\")\n",
    "        "
   ]
  },
  {
   "cell_type": "code",
   "execution_count": 12,
   "id": "88494706",
   "metadata": {},
   "outputs": [
    {
     "name": "stdout",
     "output_type": "stream",
     "text": [
      "#######\n",
      "#     #\n",
      "#  #  #\n",
      "#    ##\n",
      "########\n",
      "        ##\n"
     ]
    }
   ],
   "source": [
    "y=\"123456\"\n",
    "for x in y:\n",
    "    if(x==\"1\"):\n",
    "        print(\"#######\")\n",
    "    elif(x==\"2\"):\n",
    "        print(\"#     #\")\n",
    "    elif(x==\"3\"):\n",
    "        print(\"#  #  #\")\n",
    "    elif(x==\"4\"):\n",
    "        print(\"#    ##\")\n",
    "    elif(x==\"6\"):\n",
    "        print(\"        ##\")\n",
    "    elif(x==\"5\"):\n",
    "        print(\"########\")\n",
    "       "
   ]
  },
  {
   "cell_type": "code",
   "execution_count": 13,
   "id": "cec0fd7d",
   "metadata": {},
   "outputs": [
    {
     "name": "stdout",
     "output_type": "stream",
     "text": [
      "#####\n",
      "#    #\n",
      "#####\n",
      "#  #\n",
      "#    #\n"
     ]
    }
   ],
   "source": [
    "y=\"12345\"\n",
    "for x in y:\n",
    "    if(x==\"1\") or (x==\"3\"):\n",
    "        print(\"#####\")\n",
    "    elif(x==\"2\") or (x==\"5\"):\n",
    "        print(\"#    #\")\n",
    "    elif(x==\"4\"):\n",
    "        print(\"#  #\")\n",
    "       "
   ]
  },
  {
   "cell_type": "code",
   "execution_count": 14,
   "id": "03a3a437",
   "metadata": {},
   "outputs": [
    {
     "name": "stdout",
     "output_type": "stream",
     "text": [
      "#####\n",
      "#\n",
      "#####\n",
      "    #\n",
      "#####\n"
     ]
    }
   ],
   "source": [
    "y=\"12345\"\n",
    "for x in y:\n",
    "    if (x==\"1\") or (x==\"3\") or (x==\"5\"):\n",
    "        print(\"#####\")\n",
    "    elif (x==\"2\"):\n",
    "        print(\"#\")\n",
    "    elif(x==\"4\"):\n",
    "        print(\"    #\")\n",
    "       "
   ]
  },
  {
   "cell_type": "code",
   "execution_count": 15,
   "id": "8762691a",
   "metadata": {},
   "outputs": [
    {
     "name": "stdout",
     "output_type": "stream",
     "text": [
      "#######\n",
      "   #  \n",
      "   #  \n",
      "   #  \n"
     ]
    }
   ],
   "source": [
    "y=\"1234\"\n",
    "for x in y:\n",
    "    if (x==\"1\"):\n",
    "        print(\"#######\")\n",
    "    elif (x==\"2\") or (x==\"3\") or (x==\"4\"):\n",
    "        print(\"   #  \")\n",
    "        "
   ]
  },
  {
   "cell_type": "code",
   "execution_count": 16,
   "id": "e92e5f38",
   "metadata": {},
   "outputs": [
    {
     "name": "stdout",
     "output_type": "stream",
     "text": [
      "#      #\n",
      "#      #\n",
      "#      #\n",
      "########\n"
     ]
    }
   ],
   "source": [
    "y=\"1234\"\n",
    "for x in y:\n",
    "    if (x==\"1\") or (x==\"2\") or (x==\"3\"):\n",
    "        print(\"#      #\")\n",
    "    elif (x==\"4\"):\n",
    "        print(\"########\")\n",
    "      "
   ]
  },
  {
   "cell_type": "code",
   "execution_count": 17,
   "id": "649fd728",
   "metadata": {},
   "outputs": [
    {
     "name": "stdout",
     "output_type": "stream",
     "text": [
      "#        #\n",
      "  #     #\n",
      "    #  #\n",
      "      #  \n"
     ]
    }
   ],
   "source": [
    "y=\"1234\"\n",
    "for x in y:\n",
    "    if (x==\"1\"):\n",
    "        print(\"#        #\")\n",
    "    elif(x==\"2\"):\n",
    "        print(\"  #     #\" )\n",
    "    elif(x==\"3\"):\n",
    "        print(\"    #  #\"  )\n",
    "    elif(x==\"4\"):\n",
    "        print(\"      #  \")\n",
    "      "
   ]
  },
  {
   "cell_type": "code",
   "execution_count": 18,
   "id": "c3b3e6be",
   "metadata": {},
   "outputs": [
    {
     "name": "stdout",
     "output_type": "stream",
     "text": [
      "#       #\n",
      "#       #\n",
      "#   #   #\n",
      "# #   # #\n",
      "#       #\n"
     ]
    }
   ],
   "source": [
    "y=\"12345\"\n",
    "for x in y:\n",
    "    if (x==\"1\") or (x==\"2\"):\n",
    "        print(\"#       #\")\n",
    "    elif(x==\"3\"):\n",
    "        print(\"#   #   #\")\n",
    "    elif(x==\"4\"):\n",
    "        print(\"# #   # #\")\n",
    "    elif(x==\"5\"):\n",
    "        print(\"#       #\")\n",
    "       "
   ]
  },
  {
   "cell_type": "code",
   "execution_count": 19,
   "id": "36cf1ac0",
   "metadata": {},
   "outputs": [
    {
     "name": "stdout",
     "output_type": "stream",
     "text": [
      "#         #\n",
      "  #     #\n",
      "     #   \n",
      "  #     #\n",
      "#         #\n"
     ]
    }
   ],
   "source": [
    "y=\"12345\"\n",
    "for x in y:\n",
    "    if (x==\"1\") or (x==\"5\"):\n",
    "        print(\"#         #\")\n",
    "    elif (x==\"2\")or (x==\"4\"):\n",
    "        print(\"  #     #\")\n",
    "    elif(x==\"3\"):\n",
    "        print(\"     #   \")\n",
    "    "
   ]
  },
  {
   "cell_type": "code",
   "execution_count": 20,
   "id": "37cbbfe6",
   "metadata": {},
   "outputs": [
    {
     "name": "stdout",
     "output_type": "stream",
     "text": [
      "#      #\n",
      "  #  #\n",
      "    #\n",
      "  #\n"
     ]
    }
   ],
   "source": [
    "y=\"1234\"\n",
    "for x in y:\n",
    "    if (x==\"1\"):\n",
    "        print(\"#      #\")\n",
    "    elif(x==\"2\"):\n",
    "        print(\"  #  #\")\n",
    "    elif(x==\"3\"):\n",
    "        print(\"    #\")\n",
    "    elif(x==\"4\"):\n",
    "        print(\"  #\")\n",
    "    else:\n",
    "        print(\"#\")\n",
    "     "
   ]
  },
  {
   "cell_type": "code",
   "execution_count": null,
   "id": "5432f1a5",
   "metadata": {},
   "outputs": [],
   "source": []
  }
 ],
 "metadata": {
  "kernelspec": {
   "display_name": "Python 3 (ipykernel)",
   "language": "python",
   "name": "python3"
  },
  "language_info": {
   "codemirror_mode": {
    "name": "ipython",
    "version": 3
   },
   "file_extension": ".py",
   "mimetype": "text/x-python",
   "name": "python",
   "nbconvert_exporter": "python",
   "pygments_lexer": "ipython3",
   "version": "3.9.13"
  }
 },
 "nbformat": 4,
 "nbformat_minor": 5
}
