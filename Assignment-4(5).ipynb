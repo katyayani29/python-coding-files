{
 "cells": [
  {
   "cell_type": "code",
   "execution_count": 3,
   "id": "e5e68e09",
   "metadata": {},
   "outputs": [
    {
     "name": "stdout",
     "output_type": "stream",
     "text": [
      "enter the range:11\n",
      "2\n",
      "1\n",
      "3\n",
      "4\n",
      "2\n",
      "3\n",
      "3\n",
      "2\n",
      "7\n",
      "9\n",
      "8\n",
      "[2, 1, 3, 4, 2, 3, 3, 2, 7, 9, 8]\n",
      "enter the number:1\n",
      "2\n",
      "[2]\n"
     ]
    }
   ],
   "source": [
    "#1.Given a list of numbers, write a python program that returns a new list which Has all \n",
    "#duplicate elements removed. And is sorted in an increasing order.\n",
    "l=[]\n",
    "n=int(input(\"enter the range:\"))\n",
    "for i in range(0,n):\n",
    "    n=int(input())\n",
    "    l.append(n)\n",
    "print(l)\n",
    "li=[]\n",
    "new_list=[]\n",
    "l=[]\n",
    "n=int(input(\"enter the number:\"))\n",
    "for i in range(0,n):\n",
    "    n=int(input())\n",
    "    l.append(n)\n",
    "print(l)\n",
    "li=[]"
   ]
  },
  {
   "cell_type": "code",
   "execution_count": 10,
   "id": "26dd749a",
   "metadata": {},
   "outputs": [
    {
     "name": "stdout",
     "output_type": "stream",
     "text": [
      "(1, 'a')\n",
      "(2, 'c')\n",
      "(3, 'k')\n"
     ]
    }
   ],
   "source": [
    "#2.Write a Python program where you will iterate over both keys and values in \n",
    "#dictionaries\n",
    "k={1:\"a\",2:\"c\",3:\"k\"}\n",
    "for i in k.items():\n",
    "    print(i)"
   ]
  },
  {
   "cell_type": "code",
   "execution_count": 12,
   "id": "9d5d4e96",
   "metadata": {},
   "outputs": [
    {
     "name": "stdout",
     "output_type": "stream",
     "text": [
      "enter the range: 4\n",
      "enter name: kat\n",
      "enter values: 1\n",
      "enter name: sujji\n",
      "enter values: 2\n",
      "enter name: rohi\n",
      "enter values: 3\n",
      "enter name: bhirav\n",
      "enter values: 4\n",
      "{'kat': '1', 'sujji': '2', 'rohi': '3', 'bhirav': '4'}\n",
      "['1', '2', '3', '4']\n"
     ]
    }
   ],
   "source": [
    "#3.. Write a Python program that takes a dictionary of student names and returns a list of \n",
    "#student names in alphabetical order\n",
    "n=int(input(\"enter the range: \"))\n",
    "k={}\n",
    "for i in range(n):\n",
    "    key=input(\"enter name: \")\n",
    "    values=input(\"enter values: \")\n",
    "    k[key]=values\n",
    "print(k)\n",
    "new={}\n",
    "for i in k.values():\n",
    "    new=sorted(k.values())\n",
    "print(new)\n",
    "\n"
   ]
  },
  {
   "cell_type": "code",
   "execution_count": 18,
   "id": "452cb54a",
   "metadata": {},
   "outputs": [
    {
     "name": "stdout",
     "output_type": "stream",
     "text": [
      "enter the number:4\n",
      "3\n",
      "2\n",
      "1\n",
      "4\n",
      "[3, 2, 1, 4]\n",
      "[False, False, True, False]\n"
     ]
    }
   ],
   "source": [
    "#4.Write a Python which returns a new list of Booleans, from a given number. Iterating \n",
    "#through the number one digit at a time, append True if the digit is 1 and False if it is 0\n",
    "l=[]\n",
    "n=int(input(\"enter the number:\"))\n",
    "for i in range(0,n):\n",
    "    n=int(input())\n",
    "    l.append(n)\n",
    "print(l)\n",
    "li=[]\n",
    "k=list(map(lambda x:x==1,l))\n",
    "print(k)\n"
   ]
  },
  {
   "cell_type": "code",
   "execution_count": 19,
   "id": "bda28069",
   "metadata": {},
   "outputs": [
    {
     "name": "stdout",
     "output_type": "stream",
     "text": [
      "enter the string: Rohith kumar\n",
      "{'R': 1, 'o': 1, 'h': 2, 'i': 1, 't': 1, ' ': 1, 'k': 1, 'u': 1, 'm': 1, 'a': 1, 'r': 1}\n"
     ]
    }
   ],
   "source": [
    "#5..Write a Python program where you will return a dictionary where the keys will be the \n",
    "#character and the values will be the occurrence of the character in the string, and it \n",
    "#should for any string inputs (dynamic)\n",
    "def string(k):\n",
    "    d={}\n",
    "    for i in k:\n",
    "        if i in d:\n",
    "            d[i]+=1\n",
    "        else:\n",
    "            d[i]=1\n",
    "    return d\n",
    "m=input(\"enter the string: \")\n",
    "l=string(m)\n",
    "print(l)"
   ]
  },
  {
   "cell_type": "code",
   "execution_count": 20,
   "id": "8c24c474",
   "metadata": {},
   "outputs": [
    {
     "name": "stdout",
     "output_type": "stream",
     "text": [
      "Ackes\n"
     ]
    }
   ],
   "source": [
    "#6.. Given a dictionary containing the names and ages of a group of people, return the \n",
    "#name of the oldest person\n",
    "def get_oldest_person_name(people_dict):\n",
    "    oldest_age = -1\n",
    "    oldest_person = None\n",
    "\n",
    "    for name, age in people_dict.items():\n",
    "        if age > oldest_age:\n",
    "            oldest_age = age\n",
    "            oldest_person = name\n",
    "\n",
    "    return oldest_person\n",
    "\n",
    "input_dict = {\n",
    "    \"Tmma\": 41,\n",
    "    \"Ackes\": 45,\n",
    "    \"myna\": 15,\n",
    "    \"Benthon\": 29\n",
    "}\n",
    "\n",
    "oldest_person_name = get_oldest_person_name(input_dict)\n",
    "print(oldest_person_name)\n",
    "\n",
    "\n",
    "\n",
    "\n"
   ]
  },
  {
   "cell_type": "code",
   "execution_count": 21,
   "id": "0260f9fc",
   "metadata": {},
   "outputs": [
    {
     "name": "stdout",
     "output_type": "stream",
     "text": [
      "Union of sets: {1, 2, 3, 4, 5, 6, 7, 8}\n"
     ]
    }
   ],
   "source": [
    "#9.Write a Python program to create a union of sets\n",
    "def union_of_sets(set1, set2):\n",
    "    union_set = set1.union(set2)\n",
    "    return union_set\n",
    "\n",
    "# Example sets\n",
    "set1 = {1, 2, 3, 4, 5}\n",
    "set2 = {4, 5, 6, 7, 8}\n",
    "\n",
    "result_union = union_of_sets(set1, set2)\n",
    "print(\"Union of sets:\", result_union)"
   ]
  },
  {
   "cell_type": "code",
   "execution_count": 24,
   "id": "1fe332df",
   "metadata": {},
   "outputs": [
    {
     "name": "stdout",
     "output_type": "stream",
     "text": [
      "enter the range: 4\n",
      "enter element  : 3\n",
      "enter element  : 4\n",
      "enter element  : 5\n",
      "enter element  : 6\n",
      "{'5', '4', '6', '3'}\n",
      "enter element to check: 7\n"
     ]
    }
   ],
   "source": [
    "#10.Write a Python program to check if a given value is present in a set or not\n",
    "#(Dynamic)\n",
    "n=int(input(\"enter the range: \"))\n",
    "k=set()\n",
    "for i in range(n):\n",
    "    el=input(\"enter element  : \")\n",
    "    k.add(el)\n",
    "print(k)\n",
    "element=input(\"enter element to check: \")\n",
    "for i in k:\n",
    "    if(i==element):\n",
    "        print(\" present\")\n",
    "        break\n",
    "\n",
    "\n",
    "\n",
    "\n",
    "\n"
   ]
  },
  {
   "cell_type": "code",
   "execution_count": 27,
   "id": "7e1d2b2a",
   "metadata": {},
   "outputs": [
    {
     "name": "stdout",
     "output_type": "stream",
     "text": [
      "enter the string: cat dod cat dog mouse\n",
      "['cat', 'dod', 'cat', 'dog', 'mouse']\n",
      "{'cat': 2, 'dod': 1, 'dog': 1, 'mouse': 1}\n",
      "[('cat', 2), ('dod', 1), ('dog', 1), ('mouse', 1)]\n"
     ]
    }
   ],
   "source": [
    "#11.Write a Python program to find the occurrences of 3 most common words in a \n",
    "string=input(\"enter the string: \")\n",
    "l=string.split()\n",
    "d={}\n",
    "c=0\n",
    "for i in l:\n",
    "    m=l.count(i)\n",
    "    d[i]=m\n",
    "\n",
    "print(l)\n",
    "print(d)\n",
    "m=sorted(d.items())\n",
    "print(m)\n",
    " \n",
    "\n",
    "\n",
    "\n",
    "\n"
   ]
  },
  {
   "cell_type": "code",
   "execution_count": null,
   "id": "9ee0057e",
   "metadata": {},
   "outputs": [],
   "source": []
  }
 ],
 "metadata": {
  "kernelspec": {
   "display_name": "Python 3 (ipykernel)",
   "language": "python",
   "name": "python3"
  },
  "language_info": {
   "codemirror_mode": {
    "name": "ipython",
    "version": 3
   },
   "file_extension": ".py",
   "mimetype": "text/x-python",
   "name": "python",
   "nbconvert_exporter": "python",
   "pygments_lexer": "ipython3",
   "version": "3.9.13"
  }
 },
 "nbformat": 4,
 "nbformat_minor": 5
}
