{
 "cells": [
  {
   "cell_type": "code",
   "execution_count": 6,
   "id": "4e88e542",
   "metadata": {},
   "outputs": [
    {
     "name": "stdout",
     "output_type": "stream",
     "text": [
      "1\n",
      "22\n",
      "333\n",
      "4444\n",
      "55555\n"
     ]
    }
   ],
   "source": [
    "#a.\n",
    "k=6\n",
    "for j in range(1,k):\n",
    "    print(str(j)*j)"
   ]
  },
  {
   "cell_type": "code",
   "execution_count": 10,
   "id": "5826f60b",
   "metadata": {},
   "outputs": [
    {
     "name": "stdout",
     "output_type": "stream",
     "text": [
      "1\n",
      "12\n",
      "123\n",
      "1234\n",
      "12345\n"
     ]
    }
   ],
   "source": [
    "#b.\n",
    "k=6\n",
    "result=\"\"\n",
    "for i in range(1,k):\n",
    "    result+=str(i)\n",
    "    print(result)"
   ]
  },
  {
   "cell_type": "code",
   "execution_count": 13,
   "id": "75083c9f",
   "metadata": {},
   "outputs": [
    {
     "name": "stdout",
     "output_type": "stream",
     "text": [
      "11111\n",
      "2222\n",
      "333\n",
      "44\n",
      "5\n",
      "\n"
     ]
    }
   ],
   "source": [
    "#c.\n",
    "k=6\n",
    "for i in range(1,k+1):\n",
    "    print(str(i)*(k-i))"
   ]
  },
  {
   "cell_type": "code",
   "execution_count": null,
   "id": "66f85e37",
   "metadata": {},
   "outputs": [
    {
     "name": "stdout",
     "output_type": "stream",
     "text": [
      "55555\n",
      "5555\n",
      "555\n",
      "55\n",
      "5\n"
     ]
    }
   ],
   "source": [
    "#d.\n",
    "x=5\n",
    "while x<=6:\n",
    "    if (x==1):\n",
    "        print(\"5\")\n",
    "    elif (x==2):\n",
    "        print(\"55\")\n",
    "    elif (x==3):\n",
    "        print(\"555\")\n",
    "    elif (x==4):\n",
    "        print(\"5555\")\n",
    "    elif (x==5):\n",
    "        print(\"55555\")\n",
    "    x=x-1\n"
   ]
  },
  {
   "cell_type": "code",
   "execution_count": null,
   "id": "1f21fe00",
   "metadata": {},
   "outputs": [
    {
     "name": "stdout",
     "output_type": "stream",
     "text": [
      "012345\n",
      "01234\n",
      "0123\n",
      "012\n",
      "01\n"
     ]
    }
   ],
   "source": [
    "#e.\n",
    "x=5\n",
    "while x<=6:\n",
    "    if (x==1):\n",
    "        print(\"01\")\n",
    "    elif (x==2):\n",
    "        print(\"012\")\n",
    "    elif (x==3):\n",
    "        print(\"0123\")\n",
    "    elif (x==4):\n",
    "        print(\"01234\")\n",
    "    elif (x==5):\n",
    "        print(\"012345\")\n",
    "    x=x-1\n"
   ]
  },
  {
   "cell_type": "code",
   "execution_count": null,
   "id": "751b8ef9",
   "metadata": {},
   "outputs": [
    {
     "name": "stdout",
     "output_type": "stream",
     "text": [
      "1\n",
      "33\n",
      "555\n",
      "7777\n",
      "99999\n"
     ]
    }
   ],
   "source": [
    "#f\n",
    "x=5\n",
    "while x<=6:\n",
    "    if (x==1):\n",
    "        print(\"99999\")\n",
    "    elif (x==2):\n",
    "        print(\"7777\")\n",
    "    elif (x==3):\n",
    "        print(\"555\")\n",
    "    elif (x==4):\n",
    "        print(\"33\")\n",
    "    elif (x==5):\n",
    "        print(\"1\")\n",
    "    x=x-1\n",
    "\n",
    "    \n"
   ]
  },
  {
   "cell_type": "code",
   "execution_count": null,
   "id": "220c97bb",
   "metadata": {},
   "outputs": [
    {
     "name": "stdout",
     "output_type": "stream",
     "text": [
      "5 5 5 5 5\n",
      "4 4 4 4\n",
      "3 3 3\n",
      "2 2\n",
      "1\n"
     ]
    }
   ],
   "source": [
    "#g.\n",
    "x=6\n",
    "while x<=6:\n",
    "    if (x==1):\n",
    "        print(\"1\")\n",
    "    elif (x==2):\n",
    "        print(\"2 2\")\n",
    "    elif (x==3):\n",
    "        print(\"3 3 3\")\n",
    "    elif (x==4):\n",
    "        print(\"4 4 4 4\")\n",
    "    elif (x==5):\n",
    "        print(\"5 5 5 5 5\")\n",
    "    x=x-1\n",
    "\n",
    "    "
   ]
  },
  {
   "cell_type": "code",
   "execution_count": null,
   "id": "a51bb808",
   "metadata": {},
   "outputs": [
    {
     "name": "stdout",
     "output_type": "stream",
     "text": [
      "1\n",
      "2 1\n",
      "3 2 1\n",
      "4 3 2 1\n",
      "5 4 3 2 1\n"
     ]
    }
   ],
   "source": [
    "#h.\n",
    "x=6\n",
    "while x<=6:\n",
    "    if (x==1):\n",
    "        print(\"5 4 3 2 1\")\n",
    "    elif (x==2):\n",
    "        print(\"4 3 2 1\")\n",
    "    elif (x==3):\n",
    "        print(\"3 2 1\")\n",
    "    elif (x==4):\n",
    "        print(\"2 1\")\n",
    "    elif (x==5):\n",
    "        print(\"1\")\n",
    "    x=x-1\n"
   ]
  },
  {
   "cell_type": "code",
   "execution_count": null,
   "id": "fa66c058",
   "metadata": {},
   "outputs": [
    {
     "name": "stdout",
     "output_type": "stream",
     "text": [
      "5 4 3 2 1\n",
      "4 3 2 1\n",
      "3 2 1\n",
      "2 1\n",
      "1\n"
     ]
    }
   ],
   "source": [
    "#i.\n",
    "x=6\n",
    "while x<=6:\n",
    "    if (x==1):\n",
    "        print(\"1\")\n",
    "    elif (x==2):\n",
    "        print(\"2 1\")\n",
    "    elif (x==3):\n",
    "        print(\"3 2 1\")\n",
    "    elif (x==4):\n",
    "        print(\"4 3 2 1\")\n",
    "    elif (x==5):\n",
    "        print(\"5 4 3 2 1\")\n",
    "    x=x-1\n"
   ]
  },
  {
   "cell_type": "code",
   "execution_count": null,
   "id": "0b20c711",
   "metadata": {},
   "outputs": [
    {
     "name": "stdout",
     "output_type": "stream",
     "text": [
      "1\n",
      "3 2\n",
      "6 5 4\n",
      "10 9 8 7\n"
     ]
    }
   ],
   "source": [
    "#j.\n",
    "x=5\n",
    "while x<=5:\n",
    "    if (x==1):\n",
    "        print(\"10 9 8 7\")\n",
    "    elif (x==2):\n",
    "        print(\"6 5 4\")\n",
    "    elif (x==3):\n",
    "        print(\"3 2\")\n",
    "    elif (x==4):\n",
    "        print(\"1\")\n",
    "    x=x-1\n"
   ]
  },
  {
   "cell_type": "code",
   "execution_count": null,
   "id": "f076d377",
   "metadata": {},
   "outputs": [
    {
     "name": "stdout",
     "output_type": "stream",
     "text": [
      "        1\n",
      "      1 2\n",
      "    1 2 3\n",
      "  1 2 3 4\n",
      "1 2 3 4 5\n"
     ]
    }
   ],
   "source": [
    "#k.\n",
    "x=5\n",
    "while x<=5:\n",
    "    if (x==1):\n",
    "        print(\"1 2 3 4 5\")\n",
    "    elif (x==2):\n",
    "        print(\"  1 2 3 4\")\n",
    "    elif (x==3):\n",
    "        print(\"    1 2 3\")\n",
    "    elif (x==4):\n",
    "        print(\"      1 2\")\n",
    "    elif (x==5):\n",
    "        print(\"        1\")\n",
    "    x=x-1\n"
   ]
  },
  {
   "cell_type": "code",
   "execution_count": null,
   "id": "d999937b",
   "metadata": {},
   "outputs": [
    {
     "name": "stdout",
     "output_type": "stream",
     "text": [
      "1\n",
      "1 1\n",
      "1 2 1\n",
      "1 3 3 1\n",
      "1 4 6 4 1\n",
      "1 5 10 10 5 1\n",
      "1 6 15 20 15 6 1\n"
     ]
    }
   ],
   "source": [
    "#l.\n",
    "x=10\n",
    "while x<=18:\n",
    "    if (x==1):\n",
    "        print(\"1 6 15 20 15 6 1\")\n",
    "    elif (x==2):\n",
    "        print(\"1 5 10 10 5 1\")\n",
    "    elif (x==3):\n",
    "        print(\"1 4 6 4 1\")\n",
    "    elif (x==4):\n",
    "        print(\"1 3 3 1\")\n",
    "    elif (x==5):\n",
    "        print(\"1 2 1\")\n",
    "    elif (x==6):\n",
    "        print(\"1 1\")\n",
    "    elif (x==7):\n",
    "        print(\"1\")\n",
    "    x=x-1    \n",
    "\n",
    "    \n"
   ]
  },
  {
   "cell_type": "code",
   "execution_count": null,
   "id": "90625055",
   "metadata": {},
   "outputs": [
    {
     "name": "stdout",
     "output_type": "stream",
     "text": [
      "1 2 3 4 5\n",
      "2 2 3 4 5\n",
      "3 3 3 4 5\n",
      "4 4 4 4 5\n",
      "5 5 5 5 5\n"
     ]
    }
   ],
   "source": [
    "#m.\n",
    "x=5\n",
    "while x<=5:\n",
    "    if (x==1):\n",
    "        print(\"5 5 5 5 5\")\n",
    "    elif (x==2):\n",
    "        print(\"4 4 4 4 5\")\n",
    "    elif (x==3):\n",
    "        print(\"3 3 3 4 5\")\n",
    "    elif (x==4):\n",
    "        print(\"2 2 3 4 5\")\n",
    "    elif (x==5):\n",
    "        print(\"1 2 3 4 5\")\n",
    "    x=x-1    "
   ]
  },
  {
   "cell_type": "code",
   "execution_count": 2,
   "id": "edd5df1d",
   "metadata": {},
   "outputs": [
    {
     "name": "stdout",
     "output_type": "stream",
     "text": [
      "8 16 24 32 40 48 56 64\n",
      "8 16 24 32 40 48 56 64\n",
      "8 16 24 32 40 48 56 64\n",
      "8 16 24 32 40 48 56 64\n",
      "8 16 24 32 40 48 56 64\n",
      "8 16 24 32 40 48 56 64\n",
      "8 16 24 32 40 48 56 64\n",
      "8 16 24 32 40 48 56 64\n",
      "8 16 24 32 40 48 56 64\n"
     ]
    }
   ],
   "source": [
    "#n.\n",
    "x=1\n",
    "while x<=9:\n",
    "    if (x*8):\n",
    "        print(\"8 16 24 32 40 48 56 64\")\n",
    "    elif (x*7):\n",
    "        print(\"7 14 21 28 35 42 49\")\n",
    "    elif (x*6):\n",
    "        print(\"6 12 18 24 30 36\")\n",
    "    elif (x*5):\n",
    "        print(\"5 10 15 20 25\")\n",
    "    elif (x*4):\n",
    "        print(\"4 8 12 16\")\n",
    "    elif (x*3):\n",
    "        print(\"3 6 9\")\n",
    "    elif (x*2):\n",
    "        print(\"2 4\")\n",
    "    elif (x*11):\n",
    "        print(\"1\")\n",
    "    x=x+1   \n",
    "    \n",
    "#.i am not getting logic for this problem sir."
   ]
  },
  {
   "cell_type": "code",
   "execution_count": null,
   "id": "7c1c2f39",
   "metadata": {},
   "outputs": [
    {
     "name": "stdout",
     "output_type": "stream",
     "text": [
      "*\n",
      "* *\n",
      "* * *\n",
      "* * * * \n",
      "* * * * *\n"
     ]
    }
   ],
   "source": [
    "#o.\n",
    "x=5\n",
    "while x<=5:\n",
    "    if (x==1):\n",
    "        print(\"* * * * *\")\n",
    "    elif (x==2):\n",
    "        print(\"* * * * \")\n",
    "    elif (x==3):\n",
    "        print(\"* * *\")\n",
    "    elif (x==4):\n",
    "        print(\"* *\")\n",
    "    elif (x==5):\n",
    "        print(\"*\")\n",
    "    x=x-1    "
   ]
  },
  {
   "cell_type": "code",
   "execution_count": null,
   "id": "d20d95b5",
   "metadata": {},
   "outputs": [
    {
     "name": "stdout",
     "output_type": "stream",
     "text": [
      "        *\n",
      "      * *\n",
      "    * * *\n",
      "  * * * * \n",
      "* * * * *\n"
     ]
    }
   ],
   "source": [
    "#p.\n",
    "x=5\n",
    "while x<=5:\n",
    "    if (x==1):\n",
    "        print(\"* * * * *\")\n",
    "    elif (x==2):\n",
    "        print(\"  * * * * \")\n",
    "    elif (x==3):\n",
    "        print(\"    * * *\")\n",
    "    elif (x==4):\n",
    "        print(\"      * *\")\n",
    "    elif (x==5):\n",
    "        print(\"        *\")\n",
    "    x=x-1    "
   ]
  },
  {
   "cell_type": "code",
   "execution_count": null,
   "id": "0365a723",
   "metadata": {},
   "outputs": [
    {
     "name": "stdout",
     "output_type": "stream",
     "text": [
      "* * * * *\n",
      "* * * *\n",
      "* * *\n",
      "* *\n",
      "*\n"
     ]
    }
   ],
   "source": [
    "#q.\n",
    "x=5\n",
    "while x<=5:\n",
    "    if (x==1):\n",
    "        print(\"*\")\n",
    "    elif (x==2):\n",
    "        print(\"* *\")\n",
    "    elif (x==3):\n",
    "        print(\"* * *\")\n",
    "    elif (x==4):\n",
    "        print(\"* * * *\")\n",
    "    elif (x==5):\n",
    "        print(\"* * * * *\")\n",
    "    x=x-1    "
   ]
  },
  {
   "cell_type": "code",
   "execution_count": null,
   "id": "b83a8ca4",
   "metadata": {},
   "outputs": [
    {
     "name": "stdout",
     "output_type": "stream",
     "text": [
      "* * * * * *\n",
      " * * * * *\n",
      "  * * * *\n",
      "   * * *\n",
      "    * *\n",
      "     *\n"
     ]
    }
   ],
   "source": [
    "#r.\n",
    "x=6\n",
    "while x<=8:\n",
    "    if (x==1):\n",
    "        print(\"     *\")\n",
    "    elif (x==2):\n",
    "        print(\"    * *\")\n",
    "    elif (x==3):\n",
    "        print(\"   * * *\")\n",
    "    elif (x==4):\n",
    "        print(\"  * * * *\")\n",
    "    elif (x==5):\n",
    "        print(\" * * * * *\")\n",
    "    elif (x==6):\n",
    "        print(\"* * * * * *\")\n",
    "    x=x-1    "
   ]
  },
  {
   "cell_type": "code",
   "execution_count": null,
   "id": "790aaa24",
   "metadata": {},
   "outputs": [
    {
     "name": "stdout",
     "output_type": "stream",
     "text": [
      " ***** \n",
      " **** \n",
      " *** \n",
      " ** \n",
      " * \n"
     ]
    }
   ],
   "source": [
    "#s.\n",
    "x=6\n",
    "while x<=8:\n",
    "    if (x==1):\n",
    "        print(\" * \")\n",
    "    elif (x==2):\n",
    "        print(\" ** \")\n",
    "    elif (x==3):\n",
    "        print(\" *** \")\n",
    "    elif (x==4):\n",
    "        print(\" **** \")\n",
    "    elif (x==5):\n",
    "        print(\" ***** \")\n",
    "    x=x-1    "
   ]
  },
  {
   "cell_type": "markdown",
   "id": "895a6204",
   "metadata": {},
   "source": []
  },
  {
   "cell_type": "code",
   "execution_count": null,
   "id": "de9cd295",
   "metadata": {},
   "outputs": [
    {
     "name": "stdout",
     "output_type": "stream",
     "text": [
      "      * \n",
      "     * *\n",
      "    * * * \n",
      "   * * * *\n",
      "  * * * * *\n",
      " * * * * * *\n",
      "* * * * * * *\n"
     ]
    }
   ],
   "source": [
    "#t.\n",
    "x=7\n",
    "while x<=8:\n",
    "    if (x==1):\n",
    "        print(\"* * * * * * *\")\n",
    "    elif (x==2):\n",
    "        print(\" * * * * * *\")\n",
    "    elif (x==3):\n",
    "        print(\"  * * * * *\")\n",
    "    elif (x==4):\n",
    "        print(\"   * * * *\")\n",
    "    elif (x==5):\n",
    "        print(\"    * * * \")\n",
    "    elif (x==6):\n",
    "        print(\"     * *\")\n",
    "    elif (x==7):\n",
    "        print(\"      * \")\n",
    "    x=x-1    "
   ]
  },
  {
   "cell_type": "code",
   "execution_count": null,
   "id": "d59bcf22",
   "metadata": {},
   "outputs": [
    {
     "name": "stdout",
     "output_type": "stream",
     "text": [
      "*\n",
      "* *\n",
      "* * *\n",
      "* * * *\n",
      "* * * * * \n",
      "* * * * * *\n"
     ]
    }
   ],
   "source": [
    "#q.\n",
    "x=12\n",
    "while x<=13:\n",
    "    if (x==1):\n",
    "        print(\"* * * * * *\")\n",
    "    elif (x==2):\n",
    "        print(\"* * * * * \")\n",
    "    elif (x==3):\n",
    "        print(\"* * * *\")\n",
    "    elif (x==4):\n",
    "        print(\"* * *\")\n",
    "    elif (x==5):\n",
    "        print(\"* *\")\n",
    "    elif (x==6):\n",
    "        print(\"*\")\n",
    "    x=x-1    "
   ]
  },
  {
   "cell_type": "code",
   "execution_count": null,
   "id": "4d0747a7",
   "metadata": {},
   "outputs": [
    {
     "name": "stdout",
     "output_type": "stream",
     "text": [
      "*\n",
      "* *\n",
      "* * *\n",
      "* * * *\n",
      "* * * * *\n",
      "* * * *\n",
      "* * *\n",
      "* *\n",
      "*\n"
     ]
    }
   ],
   "source": [
    "#r.\n",
    "x=9\n",
    "while x<=9:\n",
    "    if (x==1) or (x==9):\n",
    "        print(\"*\")\n",
    "    elif (x==2) or (x==8):\n",
    "        print(\"* *\")\n",
    "    elif (x==3) or (x==7):\n",
    "        print(\"* * *\")\n",
    "    elif (x==4) or (x==6):\n",
    "        print(\"* * * *\")\n",
    "    elif (x==5):\n",
    "        print(\"* * * * *\")\n",
    "    x=x-1    \n"
   ]
  },
  {
   "cell_type": "code",
   "execution_count": null,
   "id": "0e869505",
   "metadata": {},
   "outputs": [
    {
     "name": "stdout",
     "output_type": "stream",
     "text": [
      "        *\n",
      "      * *\n",
      "    * * *\n",
      "  * * * *\n",
      "* * * * *\n",
      "  * * * *\n",
      "    * * *\n",
      "      * *\n",
      "        *\n"
     ]
    }
   ],
   "source": [
    "#s.\n",
    "x=9\n",
    "while x<=9:\n",
    "    if (x==1) or (x==9):\n",
    "        print(\"        *\")\n",
    "    elif (x==2) or (x==8):\n",
    "        print(\"      * *\")\n",
    "    elif (x==3) or (x==7):\n",
    "        print(\"    * * *\")\n",
    "    elif (x==4) or (x==6):\n",
    "        print(\"  * * * *\")\n",
    "    elif (x==5):\n",
    "        print(\"* * * * *\")\n",
    "    x=x-1    \n"
   ]
  },
  {
   "cell_type": "code",
   "execution_count": null,
   "id": "28452c69",
   "metadata": {},
   "outputs": [
    {
     "name": "stdout",
     "output_type": "stream",
     "text": [
      "* * * * *\n",
      " * * * *\n",
      "  * * *\n",
      "   * *\n",
      "    *\n",
      "    *\n",
      "   * *\n",
      "  * * *\n",
      " * * * *\n",
      "* * * * *\n"
     ]
    }
   ],
   "source": [
    "#t.\n",
    "x=13\n",
    "while x<=14:\n",
    "    if (x==1) or (x==10):\n",
    "        print(\"* * * * *\")\n",
    "    elif (x==2) or (x==9):\n",
    "        print(\" * * * *\")\n",
    "    elif (x==3) or (x==8):\n",
    "        print(\"  * * *\")\n",
    "    elif (x==4) or (x==7):\n",
    "        print(\"   * *\")\n",
    "    elif (x==5) or (x==6):\n",
    "        print(\"    *\")\n",
    "    x=x-1    "
   ]
  },
  {
   "cell_type": "code",
   "execution_count": null,
   "id": "73c53696",
   "metadata": {},
   "outputs": [
    {
     "name": "stdout",
     "output_type": "stream",
     "text": [
      "     *\n",
      "    * *\n",
      "   * * *\n",
      "  * * * *\n",
      " * * * * *\n",
      "* * * * * *\n",
      " * * * * *\n",
      "  * * * *\n",
      "   * * *\n",
      "    * *\n",
      "     *\n"
     ]
    }
   ],
   "source": [
    "#u.\n",
    "x=13\n",
    "while x<=13:\n",
    "    if (x==1) or (x==11):\n",
    "        print(\"     *\")\n",
    "    elif(x==2) or (x==10):\n",
    "        print(\"    * *\")\n",
    "    elif(x==3) or (x==9):\n",
    "        print(\"   * * *\")\n",
    "    elif (x==4) or (x==8):\n",
    "        print(\"  * * * *\")\n",
    "    elif (x==5) or (x==7):\n",
    "        print(\" * * * * *\")\n",
    "    elif (x==6):\n",
    "        print(\"* * * * * *\")\n",
    "    x=x-1    "
   ]
  },
  {
   "cell_type": "code",
   "execution_count": null,
   "id": "7daec6d3",
   "metadata": {},
   "outputs": [
    {
     "name": "stdout",
     "output_type": "stream",
     "text": [
      "    *\n",
      "   *  *\n",
      "  *    *\n",
      " *      *\n",
      "*        *\n",
      " *      *\n",
      "  *    *\n",
      "   *  *\n",
      "    *\n"
     ]
    }
   ],
   "source": [
    "#v.\n",
    "x=9\n",
    "while x<=9:\n",
    "    if (x==1) or (x==9):\n",
    "        print(\"    *\")\n",
    "    elif (x==2) or (x==8):\n",
    "        print(\"   *  *\")\n",
    "    elif (x==3) or (x==7):\n",
    "        print(\"  *    *\")\n",
    "    elif(x==4) or (x==6):\n",
    "        print(\" *      *\")\n",
    "    elif (x==5):\n",
    "        print(\"*        *\")\n",
    "    x=x-1    \n",
    "          "
   ]
  },
  {
   "cell_type": "code",
   "execution_count": null,
   "id": "70e6bef9",
   "metadata": {},
   "outputs": [],
   "source": []
  }
 ],
 "metadata": {
  "kernelspec": {
   "display_name": "Python 3 (ipykernel)",
   "language": "python",
   "name": "python3"
  },
  "language_info": {
   "codemirror_mode": {
    "name": "ipython",
    "version": 3
   },
   "file_extension": ".py",
   "mimetype": "text/x-python",
   "name": "python",
   "nbconvert_exporter": "python",
   "pygments_lexer": "ipython3",
   "version": "3.9.13"
  }
 },
 "nbformat": 4,
 "nbformat_minor": 5
}
