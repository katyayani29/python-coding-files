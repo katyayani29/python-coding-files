{
 "cells": [
  {
   "cell_type": "code",
   "execution_count": 7,
   "id": "f7e14f9c",
   "metadata": {},
   "outputs": [
    {
     "name": "stdout",
     "output_type": "stream",
     "text": [
      "enter the num :7\n",
      "enter the num :8\n",
      "enter the symbol +,-,*,%,/,//,** :+\n",
      "7+8=15\n",
      "enter the num :45\n",
      "enter the num :34\n",
      "enter the symbol +,-,*,%,/,//,** :-\n",
      "45-34=11\n",
      "enter the num :7\n",
      "enter the num :9\n",
      "enter the symbol +,-,*,%,/,//,** :*\n",
      "7*9=63\n",
      "enter the num :6\n",
      "enter the num :8\n",
      "enter the symbol +,-,*,%,/,//,** :q\n"
     ]
    }
   ],
   "source": [
    "while (3==3):\n",
    "    x= int(input(\"enter the num :\"))\n",
    "    y=int(input(\"enter the num :\"))\n",
    "    k=input(\"enter the symbol +,-,*,%,/,//,** :\")\n",
    "    if (k==\"+\"):\n",
    "        print(\"{}+{}={}\".format(x,y,x+y))\n",
    "    elif (k==\"-\"):\n",
    "         print(\"{}-{}={}\".format(x,y,x-y))\n",
    "    elif (k==\"*\"):\n",
    "         print(\"{}*{}={}\".format(x,y,x*y))\n",
    "    elif (k==\"%\"):\n",
    "         print(\"{}%{}={}\".format(x,y,x%y))\n",
    "    elif (k==\"/\"):\n",
    "         print(\"{}/{}={}\".format(x,y,x/y)) \n",
    "    elif (k==\"**\"):\n",
    "         print(\"{}**{}={}\".format(x,y,x**y))\n",
    "    elif (k==\"//\"):\n",
    "         print(\"{}-{}={}\".format(x,y,x//y))\n",
    "    elif(k.lower()==\"q\"):\n",
    "        break\n",
    "    else:\n",
    "        print(\"correct the symbol\")\n",
    "        \n",
    "        "
   ]
  },
  {
   "cell_type": "code",
   "execution_count": null,
   "id": "15d712c6",
   "metadata": {},
   "outputs": [],
   "source": []
  }
 ],
 "metadata": {
  "kernelspec": {
   "display_name": "Python 3 (ipykernel)",
   "language": "python",
   "name": "python3"
  },
  "language_info": {
   "codemirror_mode": {
    "name": "ipython",
    "version": 3
   },
   "file_extension": ".py",
   "mimetype": "text/x-python",
   "name": "python",
   "nbconvert_exporter": "python",
   "pygments_lexer": "ipython3",
   "version": "3.9.13"
  }
 },
 "nbformat": 4,
 "nbformat_minor": 5
}
