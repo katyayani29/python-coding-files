{
 "cells": [
  {
   "cell_type": "code",
   "execution_count": 1,
   "id": "905e4ee8",
   "metadata": {},
   "outputs": [
    {
     "name": "stdout",
     "output_type": "stream",
     "text": [
      "  # \n",
      "#   #\n",
      "#   #\n",
      "#   # \n",
      "  #   #\n"
     ]
    }
   ],
   "source": [
    "y=\"12345\"\n",
    "for x in y:\n",
    "    if (x==\"2\") or (x==\"3\"):\n",
    "        print(\"#   #\")\n",
    "    elif(x==\"1\"):\n",
    "        print(\"  # \")\n",
    "    elif(x==\"4\"):\n",
    "        print(\"#   # \")\n",
    "    elif(x==\"5\"):\n",
    "        print(\"  #   #\")\n",
    "       "
   ]
  },
  {
   "cell_type": "code",
   "execution_count": 2,
   "id": "b31bd8fb",
   "metadata": {},
   "outputs": [
    {
     "name": "stdout",
     "output_type": "stream",
     "text": [
      "#\n",
      "#\n",
      "# #\n",
      "#   #\n",
      "#   #\n",
      "# #\n"
     ]
    }
   ],
   "source": [
    "y=\"123456\"\n",
    "for x in y:\n",
    "    if (x==\"2\")  or (x==\"1\"):\n",
    "        print(\"#\")\n",
    "    elif(x==\"4\") or (x==\"5\"):\n",
    "        print(\"#   #\")\n",
    "    elif (x==\"3\"):\n",
    "        print(\"# #\")\n",
    "    elif (x==\"6\"):\n",
    "        print(\"# #\")\n",
    "       "
   ]
  },
  {
   "cell_type": "code",
   "execution_count": 3,
   "id": "60b3fcaa",
   "metadata": {},
   "outputs": [
    {
     "name": "stdout",
     "output_type": "stream",
     "text": [
      "####\n",
      "#\n",
      "#\n",
      "####\n"
     ]
    }
   ],
   "source": [
    "y=\"12345\"\n",
    "for x in y:\n",
    "    if (x==\"1\") or (x==\"5\"):\n",
    "        print(\"####\")\n",
    "    elif (x==\"2\")or(x==\"3\"):\n",
    "        print(\"#\")\n",
    "        "
   ]
  },
  {
   "cell_type": "code",
   "execution_count": 4,
   "id": "e1f09c55",
   "metadata": {},
   "outputs": [
    {
     "name": "stdout",
     "output_type": "stream",
     "text": [
      "       #\n",
      "       #\n",
      "       #\n",
      "    #  #\n",
      "  #    #\n",
      "   # # #\n"
     ]
    }
   ],
   "source": [
    "y=\"123456\"\n",
    "for x in y:\n",
    "    if (x==\"1\") or (x==\"2\") or(x==\"3\"):\n",
    "        print(\"       #\")\n",
    "    elif(x==\"4\"):\n",
    "        print(\"    #  #\")\n",
    "    elif(x==\"5\"):\n",
    "        print(\"  #    #\")\n",
    "    elif(x==\"6\"):\n",
    "        print(\"   # # #\")\n",
    "       "
   ]
  },
  {
   "cell_type": "code",
   "execution_count": 5,
   "id": "4a789140",
   "metadata": {},
   "outputs": [
    {
     "name": "stdout",
     "output_type": "stream",
     "text": [
      "  # # \n",
      "#    #\n",
      "#  ##\n",
      "#\n",
      " # ###\n"
     ]
    }
   ],
   "source": [
    "y=\"1234567\"\n",
    "for x in y:\n",
    "    if(x==\"3\"):\n",
    "        print(\"#  ##\")\n",
    "    elif(x==\"1\"):\n",
    "        print(\"  # # \")\n",
    "    elif(x==\"2\"):\n",
    "        print(\"#    #\")\n",
    "    elif(x==\"4\"):\n",
    "        print(\"#\")\n",
    "    elif(x==\"5\"):\n",
    "        print(\" # ###\")\n",
    "       "
   ]
  },
  {
   "cell_type": "code",
   "execution_count": 8,
   "id": "6289d905",
   "metadata": {},
   "outputs": [
    {
     "name": "stdout",
     "output_type": "stream",
     "text": [
      "  ###\n",
      "  # #\n",
      "  #\n",
      "#####\n",
      "  #\n",
      "  #\n"
     ]
    }
   ],
   "source": [
    "y=\"123456\"\n",
    "for x in y:\n",
    "    if(x==\"1\"):\n",
    "        print(\"  ###\")\n",
    "    elif(x==\"2\"):\n",
    "        print(\"  # #\")\n",
    "    elif(x==\"4\"):\n",
    "        print(\"#####\")\n",
    "    else:\n",
    "        print(\"  #\")\n",
    "    "
   ]
  },
  {
   "cell_type": "code",
   "execution_count": 10,
   "id": "744c19e9",
   "metadata": {},
   "outputs": [
    {
     "name": "stdout",
     "output_type": "stream",
     "text": [
      "# # #\n",
      "#   #  \n",
      "# # # #\n",
      "    #\n",
      " #  #\n",
      "#   #\n",
      "# # #\n"
     ]
    }
   ],
   "source": [
    "y=\"1234567\"\n",
    "for x in y:\n",
    "    if(x==\"1\") or (x==\"7\"):\n",
    "        print(\"# # #\")\n",
    "    elif (x==\"6\"):\n",
    "        print(\"#   #\")\n",
    "    elif (x==\"2\"):\n",
    "        print(\"#   #  \")\n",
    "    elif(x==\"3\"):\n",
    "        print(\"# # # #\")\n",
    "    elif(x==\"4\"):\n",
    "        print(\"    #\")\n",
    "    else:\n",
    "        print(\" #  #\")\n",
    "    "
   ]
  },
  {
   "cell_type": "code",
   "execution_count": 12,
   "id": "edc1a3f9",
   "metadata": {},
   "outputs": [
    {
     "name": "stdout",
     "output_type": "stream",
     "text": [
      "#\n",
      "#\n",
      "#\n",
      "# # #\n",
      "#   #\n",
      "#   #\n"
     ]
    }
   ],
   "source": [
    "y=\"123456\"\n",
    "for x in y:\n",
    "    if(x==\"1\") or (x==\"2\") or (x==\"3\"):\n",
    "        print(\"#\")\n",
    "    elif(x==\"4\") :\n",
    "        print(\"# # #\")\n",
    "    else:\n",
    "        print(\"#   #\")\n",
    "    "
   ]
  },
  {
   "cell_type": "code",
   "execution_count": 14,
   "id": "7192f23a",
   "metadata": {},
   "outputs": [
    {
     "name": "stdout",
     "output_type": "stream",
     "text": [
      "   #\n",
      " \n",
      "   #\n",
      "   #\n",
      "   #\n",
      "   #\n"
     ]
    }
   ],
   "source": [
    "y=\"12345\"\n",
    "for x in y:\n",
    "    if(x==\"2\"):\n",
    "        print(\" \")    \n",
    "    print(\"   #\")\n",
    "    "
   ]
  },
  {
   "cell_type": "code",
   "execution_count": 15,
   "id": "200fbd40",
   "metadata": {},
   "outputs": [
    {
     "name": "stdout",
     "output_type": "stream",
     "text": [
      "  #  \n",
      "  #  \n",
      "  #  \n",
      "# #\n",
      "###\n"
     ]
    }
   ],
   "source": [
    "y=\"12345\"\n",
    "for x in y:\n",
    "\n",
    "    if(x==\"1\") or (x==\"2\") or (x==\"3\"):\n",
    "        print(\"  #  \")\n",
    "    elif(x==\"4\"):\n",
    "        print(\"# #\")\n",
    "    else:\n",
    "        print(\"###\")\n",
    "    "
   ]
  },
  {
   "cell_type": "code",
   "execution_count": 16,
   "id": "1b434807",
   "metadata": {},
   "outputs": [
    {
     "name": "stdout",
     "output_type": "stream",
     "text": [
      "#    #\n",
      "#   #\n",
      "# #\n",
      "#   #\n",
      "#    #\n"
     ]
    }
   ],
   "source": [
    "y=\"12345\"\n",
    "for x in y:\n",
    "    if(x==\"1\") or (x==\"5\"):\n",
    "        print(\"#    #\")\n",
    "    elif(x==\"2\") or (x==\"4\"):\n",
    "        print(\"#   #\")\n",
    "    elif(x==\"3\"):\n",
    "        print(\"# #\")\n",
    "       "
   ]
  },
  {
   "cell_type": "code",
   "execution_count": 17,
   "id": "a71c1f53",
   "metadata": {},
   "outputs": [
    {
     "name": "stdout",
     "output_type": "stream",
     "text": [
      "   #\n",
      "   #\n",
      "   #\n",
      "   #\n",
      "   #\n"
     ]
    }
   ],
   "source": [
    "y=\"12345\"\n",
    "for x in y:\n",
    "    print(\"   #\")\n",
    "    "
   ]
  },
  {
   "cell_type": "code",
   "execution_count": 18,
   "id": "10fef5cb",
   "metadata": {},
   "outputs": [
    {
     "name": "stdout",
     "output_type": "stream",
     "text": [
      "#  #   # \n",
      " #   #   #\n",
      " #   #   #\n",
      " #   #   #\n",
      " #   #   #\n",
      " #   #   #\n"
     ]
    }
   ],
   "source": [
    "y=\"123456\"\n",
    "for x in y:\n",
    "    if(x==\"1\"):\n",
    "        print(\"#  #   # \")\n",
    "    else:\n",
    "        print(\" #   #   #\")\n",
    "    "
   ]
  },
  {
   "cell_type": "code",
   "execution_count": 19,
   "id": "eb811002",
   "metadata": {},
   "outputs": [
    {
     "name": "stdout",
     "output_type": "stream",
     "text": [
      "#  # #\n",
      " #     #\n",
      " #     #\n",
      " #     #\n",
      " #     #\n",
      " #     #\n"
     ]
    }
   ],
   "source": [
    "y=\"123456\"\n",
    "for x in y:\n",
    "    if(x==\"1\"):\n",
    "        print(\"#  # #\")\n",
    "    else:\n",
    "        print(\" #     #\")\n",
    "    "
   ]
  },
  {
   "cell_type": "code",
   "execution_count": 20,
   "id": "a84c9dba",
   "metadata": {},
   "outputs": [
    {
     "name": "stdout",
     "output_type": "stream",
     "text": [
      " #####\n",
      "#     #\n",
      "#     #\n",
      "#     #\n",
      " #####\n"
     ]
    }
   ],
   "source": [
    "y=\"12345\"\n",
    "for x in y:\n",
    "    if(x==\"1\") or (x==\"5\"):\n",
    "        print(\" #####\")\n",
    "    elif (x==\"2\") or (x==\"3\") or (x==\"4\"):\n",
    "        print(\"#     #\")    "
   ]
  },
  {
   "cell_type": "code",
   "execution_count": 21,
   "id": "e2127357",
   "metadata": {},
   "outputs": [
    {
     "name": "stdout",
     "output_type": "stream",
     "text": [
      "#####\n",
      "#   #\n",
      "#####\n",
      "#\n",
      "#\n"
     ]
    }
   ],
   "source": [
    "y=\"12345\"\n",
    "for x in y:\n",
    "    if(x==\"1\") or (x==\"3\"):\n",
    "        print(\"#####\")\n",
    "    elif(x==\"2\"):\n",
    "        print(\"#   #\")\n",
    "    elif(x==\"4\") or (x==\"5\"):\n",
    "        print(\"#\")"
   ]
  },
  {
   "cell_type": "code",
   "execution_count": 23,
   "id": "b17431d7",
   "metadata": {},
   "outputs": [
    {
     "name": "stdout",
     "output_type": "stream",
     "text": [
      " ####\n",
      "#   #\n",
      "#   #\n",
      " ####\n",
      "    #  #\n",
      "    # #\n"
     ]
    }
   ],
   "source": [
    "y=\"123456\"\n",
    "for x in y:\n",
    "    if(x==\"1\") or (x==\"4\"):\n",
    "        print(\" ####\")\n",
    "    elif(x==\"2\")or (x==\"3\") :\n",
    "        print(\"#   #\")\n",
    "    elif (x==\"5\"):\n",
    "        print(\"    #  #\")\n",
    "    elif (x==\"6\"):\n",
    "        print(\"    # #\")\n",
    "    else:\n",
    "        print(\"    #\")\n",
    "    "
   ]
  },
  {
   "cell_type": "code",
   "execution_count": 1,
   "id": "c154bad5",
   "metadata": {},
   "outputs": [
    {
     "name": "stdout",
     "output_type": "stream",
     "text": [
      "###\n",
      "#\n",
      "#\n",
      "#\n"
     ]
    }
   ],
   "source": [
    "y=\"1234\"\n",
    "for x in y:\n",
    "    if (x==\"1\"):\n",
    "        print(\"###\")\n",
    "    else:\n",
    "        print(\"#\")    \n",
    "       "
   ]
  },
  {
   "cell_type": "code",
   "execution_count": 4,
   "id": "9b8344e9",
   "metadata": {},
   "outputs": [
    {
     "name": "stdout",
     "output_type": "stream",
     "text": [
      "#####\n",
      "#\n",
      "#####\n",
      "    #\n",
      "#####\n"
     ]
    }
   ],
   "source": [
    "y=\"12345\"\n",
    "for x in y:\n",
    "    if (x==\"1\") or (x==\"3\") or (x==\"5\"):\n",
    "        print(\"#####\")\n",
    "    elif (x==\"2\"):\n",
    "        print(\"#\")\n",
    "    elif(x==\"4\"):\n",
    "        print(\"    #\")\n",
    "        "
   ]
  },
  {
   "cell_type": "code",
   "execution_count": 6,
   "id": "6f0023c7",
   "metadata": {},
   "outputs": [
    {
     "name": "stdout",
     "output_type": "stream",
     "text": [
      "  #\n",
      "  #\n",
      "#####\n",
      "  #\n",
      "  ###\n"
     ]
    }
   ],
   "source": [
    "y=\"12345\"\n",
    "for x in y: \n",
    "    if(x==\"5\"):\n",
    "        print(\"  ###\")\n",
    "    elif(x==\"3\"):\n",
    "        print(\"#####\")\n",
    "    else:\n",
    "        print(\"  #\")\n",
    "    "
   ]
  },
  {
   "cell_type": "code",
   "execution_count": 7,
   "id": "6b7adea3",
   "metadata": {},
   "outputs": [
    {
     "name": "stdout",
     "output_type": "stream",
     "text": [
      "#      #\n",
      "#      #\n",
      "#      #\n",
      "########\n"
     ]
    }
   ],
   "source": [
    "y=\"1234\"\n",
    "for x in y:\n",
    "    if (x==\"1\") or (x==\"2\") or (x==\"3\"):\n",
    "        print(\"#      #\")\n",
    "    elif (x==\"4\"):\n",
    "        print(\"########\")\n",
    "      "
   ]
  },
  {
   "cell_type": "code",
   "execution_count": 8,
   "id": "f937df7c",
   "metadata": {},
   "outputs": [
    {
     "name": "stdout",
     "output_type": "stream",
     "text": [
      "#        #\n",
      "  #     #\n",
      "    #  #\n",
      "      #  \n"
     ]
    }
   ],
   "source": [
    "y=\"12345\"\n",
    "for x in y:\n",
    "    if (x==\"1\"):\n",
    "        print(\"#        #\")\n",
    "    elif(x==\"2\"):\n",
    "        print(\"  #     #\" )\n",
    "    elif(x==\"3\"):\n",
    "        print(\"    #  #\"  )\n",
    "    elif(x==\"4\"):\n",
    "        print(\"      #  \")\n",
    "        "
   ]
  },
  {
   "cell_type": "code",
   "execution_count": 9,
   "id": "a854d5a3",
   "metadata": {},
   "outputs": [
    {
     "name": "stdout",
     "output_type": "stream",
     "text": [
      "#       #\n",
      "#       #\n",
      "#   #   #\n",
      "# #   # #\n",
      "#       #\n"
     ]
    }
   ],
   "source": [
    "y=\"12345\"\n",
    "for x in y:\n",
    "    if (x==\"1\") or (x==\"2\"):\n",
    "        print(\"#       #\")\n",
    "    elif(x==\"3\"):\n",
    "        print(\"#   #   #\")\n",
    "    elif(x==\"4\"):\n",
    "        print(\"# #   # #\")\n",
    "    elif(x==\"5\"):\n",
    "        print(\"#       #\")\n",
    "        "
   ]
  },
  {
   "cell_type": "code",
   "execution_count": 11,
   "id": "e4fdef8b",
   "metadata": {},
   "outputs": [
    {
     "name": "stdout",
     "output_type": "stream",
     "text": [
      "#        #\n",
      "  #    #\n",
      "     #   \n",
      "  #    #\n",
      "#        #\n"
     ]
    }
   ],
   "source": [
    "y=\"12345\"\n",
    "for x in y:\n",
    "    if (x==\"1\") or (x==\"5\"):\n",
    "        print(\"#        #\")\n",
    "    elif (x==\"2\")or (x==\"4\"):\n",
    "        print(\"  #    #\")\n",
    "    elif(x==\"3\"):\n",
    "        print(\"     #   \")\n",
    "    "
   ]
  },
  {
   "cell_type": "code",
   "execution_count": 13,
   "id": "473f8b59",
   "metadata": {},
   "outputs": [
    {
     "name": "stdout",
     "output_type": "stream",
     "text": [
      "#      #\n",
      "  #  #\n",
      "    #\n",
      "  #\n",
      "#\n"
     ]
    }
   ],
   "source": [
    "y=\"12345\"\n",
    "for x in y:\n",
    "    if (x==\"1\"):\n",
    "        print(\"#      #\")\n",
    "    elif(x==\"2\"):\n",
    "        print(\"  #  #\")\n",
    "    elif(x==\"3\"):\n",
    "        print(\"    #\")\n",
    "    elif(x==\"4\"):\n",
    "        print(\"  #\")\n",
    "    else:\n",
    "        print(\"#\")\n",
    "       "
   ]
  },
  {
   "cell_type": "code",
   "execution_count": null,
   "id": "f792aa40",
   "metadata": {},
   "outputs": [],
   "source": [
    "y=\"12345\"\n",
    "for x in y:\n",
    "    if(x==\"1\") or (x==\"5\"):\n",
    "        print(\"#####\")\n",
    "    elif(x==\"2\"):\n",
    "        print(\"   #\")\n",
    "    elif(x==3):\n",
    "        print(\"  #\")\n",
    "    else:\n",
    "        print(\" #\")\n",
    "    x=x+1    "
   ]
  }
 ],
 "metadata": {
  "kernelspec": {
   "display_name": "Python 3 (ipykernel)",
   "language": "python",
   "name": "python3"
  },
  "language_info": {
   "codemirror_mode": {
    "name": "ipython",
    "version": 3
   },
   "file_extension": ".py",
   "mimetype": "text/x-python",
   "name": "python",
   "nbconvert_exporter": "python",
   "pygments_lexer": "ipython3",
   "version": "3.9.13"
  }
 },
 "nbformat": 4,
 "nbformat_minor": 5
}
