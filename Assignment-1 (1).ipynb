{
 "cells": [
  {
   "cell_type": "code",
   "execution_count": 3,
   "id": "27f91960",
   "metadata": {},
   "outputs": [
    {
     "data": {
      "text/plain": [
       "'katyayani'"
      ]
     },
     "execution_count": 3,
     "metadata": {},
     "output_type": "execute_result"
    }
   ],
   "source": [
    "#1.write a program to covert a string to lower case\n",
    "x=\"KATYAYANI\"\n",
    "x.lower()"
   ]
  },
  {
   "cell_type": "code",
   "execution_count": 4,
   "id": "cdfd676d",
   "metadata": {},
   "outputs": [
    {
     "data": {
      "text/plain": [
       "'python'"
      ]
     },
     "execution_count": 4,
     "metadata": {},
     "output_type": "execute_result"
    }
   ],
   "source": [
    "x=\"PYTHON\"\n",
    "x.lower()"
   ]
  },
  {
   "cell_type": "code",
   "execution_count": 59,
   "id": "9b612bdb",
   "metadata": {},
   "outputs": [
    {
     "data": {
      "text/plain": [
       "'PyThOn'"
      ]
     },
     "execution_count": 59,
     "metadata": {},
     "output_type": "execute_result"
    }
   ],
   "source": [
    "#2.to convert only odd indexed characters to lower case\n",
    "x=\"PYTHON\"\n",
    "x[0]+x[1].lower()+x[2]+x[3].lower()+x[4]+x[5].lower()\n"
   ]
  },
  {
   "cell_type": "code",
   "execution_count": 60,
   "id": "f725050a",
   "metadata": {},
   "outputs": [
    {
     "data": {
      "text/plain": [
       "'pYtHoN'"
      ]
     },
     "execution_count": 60,
     "metadata": {},
     "output_type": "execute_result"
    }
   ],
   "source": [
    "#3.to covert even indexed characters to lower case\n",
    "x=\"PYTHON\"\n",
    "x[0].lower()+x[1]+x[2].lower()+x[3]+x[4].lower()+x[5]"
   ]
  },
  {
   "cell_type": "code",
   "execution_count": 64,
   "id": "a7a10a40",
   "metadata": {},
   "outputs": [
    {
     "data": {
      "text/plain": [
       "'pYtHoN'"
      ]
     },
     "execution_count": 64,
     "metadata": {},
     "output_type": "execute_result"
    }
   ],
   "source": [
    "#4.to convert only odd indexed characters to upper case\n",
    "x=\"python\"\n",
    "x[0]+x[1].upper()+x[2]+x[3].upper()+x[4]+x[5].upper()"
   ]
  },
  {
   "cell_type": "code",
   "execution_count": 63,
   "id": "c431ed7a",
   "metadata": {},
   "outputs": [
    {
     "data": {
      "text/plain": [
       "'PyThOn'"
      ]
     },
     "execution_count": 63,
     "metadata": {},
     "output_type": "execute_result"
    }
   ],
   "source": [
    "#5.to convert only even indexed characters to upper\n",
    "x=\"python\"\n",
    "x[0].upper()+x[1]+x[2].upper()+x[3]+x[4].upper()+x[5]"
   ]
  },
  {
   "cell_type": "code",
   "execution_count": 41,
   "id": "fb086e7e",
   "metadata": {},
   "outputs": [],
   "source": [
    "#6.python program where you have different variable with our bio data\n",
    "name=\"kat\"\n",
    "age=\"21\"\n",
    "sex=\"female\"\n",
    "phonenumber=\"123456789\"\n",
    "fathername=\"yegaiah\"\n",
    "mothername=\"nagamani\"\n"
   ]
  },
  {
   "cell_type": "code",
   "execution_count": 45,
   "id": "ffb41a54",
   "metadata": {},
   "outputs": [
    {
     "data": {
      "text/plain": [
       "'my name is kat, my age is 21, my sex is female, my phone number 123456789, my father name is yegaiah, my mother name is nagamani'"
      ]
     },
     "execution_count": 45,
     "metadata": {},
     "output_type": "execute_result"
    }
   ],
   "source": [
    "\"my name is {}, my age is {}, my sex is {}, my phone number {}, my father name is {}, my mother name is {}\".format(name,age,sex,phonenumber,fathername,mothername)"
   ]
  },
  {
   "cell_type": "code",
   "execution_count": 48,
   "id": "98d212bf",
   "metadata": {},
   "outputs": [
    {
     "data": {
      "text/plain": [
       "5"
      ]
     },
     "execution_count": 48,
     "metadata": {},
     "output_type": "execute_result"
    }
   ],
   "source": [
    "#7.python program to count how many times \"@\" occured\n",
    "n=\"kat@@@@@####\"\n",
    "n.count(\"@\")"
   ]
  },
  {
   "cell_type": "code",
   "execution_count": 50,
   "id": "ad9976f2",
   "metadata": {},
   "outputs": [
    {
     "data": {
      "text/plain": [
       "6"
      ]
     },
     "execution_count": 50,
     "metadata": {},
     "output_type": "execute_result"
    }
   ],
   "source": [
    "n=\"@g@g@j@k#k@#b#m@\"\n",
    "n.count(\"@\")"
   ]
  },
  {
   "cell_type": "code",
   "execution_count": 51,
   "id": "0a1eb537",
   "metadata": {},
   "outputs": [
    {
     "data": {
      "text/plain": [
       "3"
      ]
     },
     "execution_count": 51,
     "metadata": {},
     "output_type": "execute_result"
    }
   ],
   "source": [
    "n.count(\"#\")"
   ]
  },
  {
   "cell_type": "code",
   "execution_count": 99,
   "id": "26ec5eda",
   "metadata": {},
   "outputs": [
    {
     "data": {
      "text/plain": [
       "('name1', 'name2', 'name3')"
      ]
     },
     "execution_count": 99,
     "metadata": {},
     "output_type": "execute_result"
    }
   ],
   "source": [
    "#8.python program to get only names from the string\n",
    "n=\"name1.@gmail.com,name2.@gmai.com,name3.@gmail.com\"\n",
    "n[0:5],n[17:22],n[33:38]"
   ]
  },
  {
   "cell_type": "code",
   "execution_count": 65,
   "id": "ecdc1ea3",
   "metadata": {},
   "outputs": [
    {
     "data": {
      "text/plain": [
       "'mei'"
      ]
     },
     "execution_count": 65,
     "metadata": {},
     "output_type": "execute_result"
    }
   ],
   "source": [
    "#9.string of odd length greater than 9,return a new string made of the middle three characters\n",
    "x=\"mynameissan\"\n",
    "x[4:7]"
   ]
  },
  {
   "cell_type": "code",
   "execution_count": 81,
   "id": "01ee9069",
   "metadata": {},
   "outputs": [
    {
     "data": {
      "text/plain": [
       "'msayn'"
      ]
     },
     "execution_count": 81,
     "metadata": {},
     "output_type": "execute_result"
    }
   ],
   "source": [
    "#10.python program to insert a 2 strings in the middle of one string\n",
    "m=\"myn\"\n",
    "n=\"sa\"\n",
    "m[0:1]+n+m[1:4]\n"
   ]
  },
  {
   "cell_type": "code",
   "execution_count": 96,
   "id": "3b72f4d3",
   "metadata": {},
   "outputs": [
    {
     "data": {
      "text/plain": [
       "'bcdfghjklmnpqrstvwxyz'"
      ]
     },
     "execution_count": 96,
     "metadata": {},
     "output_type": "execute_result"
    }
   ],
   "source": [
    "#11.to remove vowels from the entire string\n",
    "n=\"abcdefghijklmnopqrstuvwxyz\"\n",
    "n.replace(\"a\",\"\").replace(\"e\",\"\").replace(\"i\",\"\").replace(\"o\",\"\").replace(\"u\",\"\")"
   ]
  },
  {
   "cell_type": "raw",
   "id": "a0084d85",
   "metadata": {},
   "source": []
  }
 ],
 "metadata": {
  "kernelspec": {
   "display_name": "Python 3 (ipykernel)",
   "language": "python",
   "name": "python3"
  },
  "language_info": {
   "codemirror_mode": {
    "name": "ipython",
    "version": 3
   },
   "file_extension": ".py",
   "mimetype": "text/x-python",
   "name": "python",
   "nbconvert_exporter": "python",
   "pygments_lexer": "ipython3",
   "version": "3.9.13"
  }
 },
 "nbformat": 4,
 "nbformat_minor": 5
}
