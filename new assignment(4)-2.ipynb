{
 "cells": [
  {
   "cell_type": "code",
   "execution_count": 16,
   "id": "1b816d7e",
   "metadata": {},
   "outputs": [
    {
     "name": "stdout",
     "output_type": "stream",
     "text": [
      "enter the number3\n",
      "enter the number5\n",
      "enter the symbols *,% :*\n",
      "3*5=15\n",
      "enter the number4\n",
      "enter the number6\n",
      "enter the symbols *,% :%\n",
      "4%6=4\n"
     ]
    }
   ],
   "source": [
    "#1.Write a program to accept two numbers from the user and calculate multiplication, division\n",
    "while(2==2):\n",
    "    num1=int(input(\"enter the number\"))\n",
    "    num2=int(input(\"enter the number\"))\n",
    "    n=input(\"enter the symbols *,% :\")\n",
    "    if (n==\"*\"):\n",
    "        print(\"{}*{}={}\".format(num1,num2,num1*num2))\n",
    "    elif (n==\"%\"):\n",
    "        print(\"{}%{}={}\".format(num1,num2,num1%num2))\n",
    "        break\n",
    "    else:\n",
    "        print(false)\n",
    "        \n",
    "        \n",
    "        "
   ]
  },
  {
   "cell_type": "code",
   "execution_count": 2,
   "id": "08773490",
   "metadata": {},
   "outputs": [
    {
     "name": "stdout",
     "output_type": "stream",
     "text": [
      "enter the stringABCDEFGHIJKLMNOP\n",
      "A C E G I K M O "
     ]
    }
   ],
   "source": [
    "#2.Write a python program to print the characters from a string that are present at an even index\n",
    "k=input(\"enter the string\")\n",
    "for i in range(len(k)):\n",
    "    if i%2==0:\n",
    "        print(k[i],end=\" \")\n",
    "\n",
    "\n",
    "\n",
    "\n",
    "\n",
    "\n",
    "\n",
    "\n",
    "\n",
    "\n"
   ]
  },
  {
   "cell_type": "code",
   "execution_count": 4,
   "id": "f758e396",
   "metadata": {},
   "outputs": [
    {
     "name": "stdout",
     "output_type": "stream",
     "text": [
      "enter the stringABCDEFGHIJKLMNOPQ\n",
      "B D F H J L N P "
     ]
    }
   ],
   "source": [
    "#3.Write a python program to print the characters from a \n",
    "#string that are present at an odd index\n",
    "m=input(\"enter the string\")\n",
    "for j in range(len(m)):\n",
    "    if j%2!=0:\n",
    "        print(m[j],end=\" \")\n",
    "\n",
    "\n",
    "\n",
    "\n",
    "\n",
    "\n",
    "\n",
    "\n",
    "\n"
   ]
  },
  {
   "cell_type": "code",
   "execution_count": 6,
   "id": "20e3fd57",
   "metadata": {},
   "outputs": [
    {
     "name": "stdout",
     "output_type": "stream",
     "text": [
      "enter the number3\n",
      "enter the number5\n",
      "-2\n"
     ]
    }
   ],
   "source": [
    "#4.Write a python program which will print the sum of the two numbers if the two numbers are even or it will print the \n",
    "#difference of two numbers\n",
    "n=int(input(\"enter the number\"))\n",
    "m=int(input(\"enter the number\"))\n",
    "while (3==3):\n",
    "    if n%2==0 and m%2==0:\n",
    "        result = n + m\n",
    "        print( result)    \n",
    "    elif n%2!=0 and m%2!=0:\n",
    "        result = n - m\n",
    "        print( result)\n",
    "    break\n",
    "    \n",
    "else:\n",
    "    print(false)\n",
    "    \n",
    "    \n",
    "\n",
    "\n",
    "\n",
    "\n"
   ]
  },
  {
   "cell_type": "code",
   "execution_count": 3,
   "id": "cab7673e",
   "metadata": {},
   "outputs": [
    {
     "name": "stdout",
     "output_type": "stream",
     "text": [
      "enter the stringabcd\n",
      "A b C d "
     ]
    }
   ],
   "source": [
    "#5.Write a python program to convert all even indexed \n",
    "#alphabets to upper and odd indexed char\n",
    "k=input(\"enter the string\")\n",
    "for i in range(len(k)):\n",
    "    if i%2==0:\n",
    "        print(k.upper()[i],end=\" \")\n",
    "    else:\n",
    "        print(k.lower()[i],end=\" \")\n"
   ]
  },
  {
   "cell_type": "code",
   "execution_count": 4,
   "id": "121ea375",
   "metadata": {},
   "outputs": [
    {
     "name": "stdout",
     "output_type": "stream",
     "text": [
      "enter the number25\n",
      "True\n"
     ]
    }
   ],
   "source": [
    "#6.Write a python program which will print True if the input\n",
    "#number is divisible by 5 or else False\n",
    "n=int(input(\"enter the number\"))\n",
    "if n%5==0:\n",
    "    print(True)\n",
    "else:\n",
    "    print(False)\n",
    "        \n",
    "        \n",
    "\n",
    "\n",
    "\n"
   ]
  },
  {
   "cell_type": "code",
   "execution_count": 29,
   "id": "ba4487c7",
   "metadata": {},
   "outputs": [
    {
     "name": "stdout",
     "output_type": "stream",
     "text": [
      "enter the number1020\n",
      "enter the number1234\n",
      "1258680\n"
     ]
    }
   ],
   "source": [
    "#7.Given two integer numbers return their product only if the \n",
    "#product is greater than 1000, else return their sum\n",
    "n=int(input(\"enter the number\"))\n",
    "m=int(input(\"enter the number\"))\n",
    "if n>1000 and m>1000:\n",
    "    print(n*m)\n",
    "else:\n",
    "    print(n+m)\n",
    "        \n",
    "\n",
    "\n",
    "\n",
    "\n",
    "\n",
    "\n"
   ]
  },
  {
   "cell_type": "code",
   "execution_count": 31,
   "id": "77497c45",
   "metadata": {},
   "outputs": [
    {
     "name": "stdout",
     "output_type": "stream",
     "text": [
      "pjtvos\n"
     ]
    }
   ],
   "source": [
    "#8.Given two strings x, y writes a program to return a new \n",
    "#string made of x and y’s first, middle, and last characters\n",
    "x=\"pytho\"\n",
    "y=\"javas\"\n",
    "l=len(x)\n",
    "m=len(y)\n",
    "print(x[0]+y[0]+x[2]+y[2]+x[4]+y[4])"
   ]
  },
  {
   "cell_type": "code",
   "execution_count": 10,
   "id": "8afa992d",
   "metadata": {},
   "outputs": [
    {
     "name": "stdout",
     "output_type": "stream",
     "text": [
      "enter the three names seperated by spaces:sujji,harshi,bhargavi\n",
      "Names ['sujji,harshi,bhargavi']\n"
     ]
    }
   ],
   "source": [
    "#9.Write a python program to take three names as input \n",
    "#from a user in the single input () function call\n",
    "k=input(\"enter the three names seperated by spaces:\")\n",
    "l_list=k.split()\n",
    "print(\"Names\",l_list)\n",
    "\n",
    "\n",
    "\n",
    "\n",
    "\n",
    "\n"
   ]
  },
  {
   "cell_type": "code",
   "execution_count": 9,
   "id": "79c2d083",
   "metadata": {},
   "outputs": [
    {
     "name": "stdout",
     "output_type": "stream",
     "text": [
      "enter the stringmalayalam\n",
      "enter the stringabcabab\n",
      "malayala@\n",
      "abc@b@b\n"
     ]
    }
   ],
   "source": [
    "#10.Write a Python program to get a string from a given \n",
    "#string where all occurrences of its first char have been \n",
    "#changed to '@', except the first char itself.\n",
    "x=input(\"enter the string\")\n",
    "y=input(\"enter the string\")\n",
    "a=x[0]\n",
    "b=x[0]\n",
    "z=x[0]+x[1:].replace(x[8],\"@\")\n",
    "print(z)\n",
    "m=y[0]+y[1:].replace(y[3],\"@\")\n",
    "print(m)                     \n"
   ]
  },
  {
   "cell_type": "code",
   "execution_count": 71,
   "id": "3decdc00",
   "metadata": {},
   "outputs": [
    {
     "name": "stdout",
     "output_type": "stream",
     "text": [
      "enter the string:playing\n",
      "playly\n"
     ]
    }
   ],
   "source": [
    "#11.Write a Python program to add 'ing' at the end of a given \n",
    "#string (string length should be equal to or more than 3). If \n",
    "#the given string already ends with 'ing' then add 'ly' instead. \n",
    "#If the string length of the given string is less than 3, leave it \n",
    "#unchanged\n",
    "x=input(\"enter the string:\")\n",
    "if(x.endswith(\"ing\") and len(x)>3):\n",
    "    print(x.replace(\"ing\",\"ly\"))\n",
    "elif x>\"4\":\n",
    "    print(x[0:4]+\"ing\")\n",
    "else:\n",
    "    print(\"unchange\")"
   ]
  },
  {
   "cell_type": "code",
   "execution_count": 76,
   "id": "c998ce4d",
   "metadata": {},
   "outputs": [
    {
     "name": "stdout",
     "output_type": "stream",
     "text": [
      "enter the number10\n",
      "enter the number5\n",
      "False\n"
     ]
    }
   ],
   "source": [
    "#12.Write a python program that accepts two inputs num1 and \n",
    "#num2 print True if one of them is 10 or if their sum is 10\n",
    "#otherwise print False\n",
    "n=int(input(\"enter the number\"))\n",
    "m=int(input(\"enter the number\"))\n",
    "if n==m:\n",
    "    print(True)\n",
    "elif n==10 or m==10 or n+m==10:\n",
    "    print(False)\n",
    "\n",
    "\n",
    "\n",
    "\n"
   ]
  },
  {
   "cell_type": "code",
   "execution_count": 81,
   "id": "1da9e765",
   "metadata": {},
   "outputs": [
    {
     "name": "stdout",
     "output_type": "stream",
     "text": [
      "enter the number0\n",
      "enter the number0\n",
      "enter the number2\n",
      "True\n"
     ]
    }
   ],
   "source": [
    "#13.Write a python program that accepts three inputs x, y and \n",
    "#z print True if x*y>z otherwise False\n",
    "x=int(input(\"enter the number\"))\n",
    "y=int(input(\"enter the number\"))\n",
    "z=int(input(\"enter the number\"))\n",
    "if x*y>z:\n",
    "    print(False)\n",
    "else:\n",
    "    print(True)\n",
    "    \n",
    "\n",
    "\n"
   ]
  },
  {
   "cell_type": "code",
   "execution_count": 89,
   "id": "7f610a8d",
   "metadata": {},
   "outputs": [
    {
     "name": "stdout",
     "output_type": "stream",
     "text": [
      "enter the chr:abcdefgh\n",
      "enter the chr:katy\n",
      "False\n"
     ]
    }
   ],
   "source": [
    "#14.Write a python program that accepts two strings inputs \n",
    "#return True depending on whether the total number of \n",
    "#characters in the first string is equal to the total number of \n",
    "#characters in the second string\n",
    "n=input(\"enter the chr:\")\n",
    "m=input(\"enter the chr:\")\n",
    "if len(n)==len(m):\n",
    "    print(True)\n",
    "else:\n",
    "    print(False)"
   ]
  },
  {
   "cell_type": "code",
   "execution_count": 97,
   "id": "9ac48624",
   "metadata": {},
   "outputs": [
    {
     "name": "stdout",
     "output_type": "stream",
     "text": [
      "enter the string:kat\n",
      "kat\n",
      "kat\n",
      "kat\n"
     ]
    }
   ],
   "source": [
    "#15.Write a python program that takes a string input, we'll say \n",
    "#that the front is the first three characters of the string. If the \n",
    "#string length is less than three characters, the front is \n",
    "#whatever is there. Return a new string, which is three copies \n",
    "#of the front\n",
    "string=input(\"enter the string:\")\n",
    "if(len(string)>3):\n",
    "    print(string)\n",
    "else:\n",
    "    for i in range(3):\n",
    "        print(string)\n",
    "\n",
    "\n",
    "\n"
   ]
  },
  {
   "cell_type": "code",
   "execution_count": 5,
   "id": "2b5d22cb",
   "metadata": {},
   "outputs": [
    {
     "name": "stdout",
     "output_type": "stream",
     "text": [
      "enter the string:kites\n",
      "plural\n"
     ]
    }
   ],
   "source": [
    "#16.) Write a python program that takes in a word and \n",
    "#determines whether or not it is plural. A plural word is one \n",
    "#that ends in \"s\".\n",
    "n=input(\"enter the string:\")\n",
    "if(n.endswith(\"s\")):\n",
    "    print(\"plural\")\n",
    "else:\n",
    "    print(\"singular\")\n",
    "\n",
    "\n",
    "\n",
    "\n"
   ]
  },
  {
   "cell_type": "code",
   "execution_count": 12,
   "id": "df4bc9b6",
   "metadata": {},
   "outputs": [
    {
     "name": "stdout",
     "output_type": "stream",
     "text": [
      "enter the age:10\n",
      "not a break\n"
     ]
    }
   ],
   "source": [
    "#17.A bartender is writing a simple program to determine \n",
    "#whether he should serve drinks to someone. He only serves \n",
    "#drinks to people 18 and older and when he's not on break\n",
    "#(True means break and False means not a break time). Given \n",
    "#the person's age, and whether break time is in session, create \n",
    "#a python program which prints whether he should serve \n",
    "#drinks or not.\n",
    "age=int(input(\"enter the age:\"))\n",
    "if(age>18):\n",
    "    print(\"break\")\n",
    "else:\n",
    "    print(\"not a break\")\n",
    "\n",
    "\n",
    "\n",
    "\n"
   ]
  },
  {
   "cell_type": "code",
   "execution_count": 8,
   "id": "e1cfd2a0",
   "metadata": {},
   "outputs": [
    {
     "ename": "SyntaxError",
     "evalue": "invalid syntax (1066539671.py, line 7)",
     "output_type": "error",
     "traceback": [
      "\u001b[1;36m  File \u001b[1;32m\"C:\\Users\\KATYAYANI\\AppData\\Local\\Temp\\ipykernel_22392\\1066539671.py\"\u001b[1;36m, line \u001b[1;32m7\u001b[0m\n\u001b[1;33m    print(name:relation)\u001b[0m\n\u001b[1;37m              ^\u001b[0m\n\u001b[1;31mSyntaxError\u001b[0m\u001b[1;31m:\u001b[0m invalid syntax\n"
     ]
    }
   ],
   "source": [
    "#18.Manoj Kumar has family and friends. Help him remind \n",
    "#them who is who. Given a string with a name, return the \n",
    "#relation of that person to Manoj Kumar.\n",
    "names=\"shiva,letha,tharun,kavitha\"\n",
    "relation=\"father,mother,brother,sister\"\n",
    "names==relations\n",
    "print(name:relation)\n",
    "\n",
    "\n",
    "\n",
    "\n",
    "#i am not getting this code sir."
   ]
  },
  {
   "cell_type": "code",
   "execution_count": 1,
   "id": "dc68b0ab",
   "metadata": {},
   "outputs": [
    {
     "name": "stdout",
     "output_type": "stream",
     "text": [
      "Enter a string: katyayani\n",
      "aaaiktyyn\n"
     ]
    }
   ],
   "source": [
    "#19.Write a python program that takes a string, breaks it up \n",
    "#and returns it with vowels first, consonants second. For any \n",
    "#character that's not a vowel (like special characters or \n",
    "#spaces), treat them like consonants\n",
    "\n",
    "\n",
    "input_string = input(\"Enter a string: \")\n",
    "vowels = \"\"\n",
    "consonants = \"\"\n",
    "for char in input_string:\n",
    "    if char.isalpha():\n",
    "        if char.lower() in 'aeiou':\n",
    "            vowels += char\n",
    "        else:\n",
    "            consonants += char\n",
    "new_string = vowels + consonants\n",
    "print(new_string)\n",
    "\n",
    "\n"
   ]
  },
  {
   "cell_type": "code",
   "execution_count": null,
   "id": "d78be26b",
   "metadata": {},
   "outputs": [
    {
     "name": "stdout",
     "output_type": "stream",
     "text": [
      "enter the num :4\n",
      "enter the num :7\n",
      "enter the symbol +,-,*,%,/,//,** :+\n",
      "4+7=11\n",
      "enter the num :4\n",
      "enter the num :6\n",
      "enter the symbol +,-,*,%,/,//,** :-\n",
      "4-6=-2\n",
      "enter the num :4\n",
      "enter the num :6\n",
      "enter the symbol +,-,*,%,/,//,** :*\n",
      "4*6=24\n",
      "enter the num :45\n",
      "enter the num :67\n",
      "enter the symbol +,-,*,%,/,//,** :%\n",
      "45%67=45\n",
      "enter the num :45\n",
      "enter the num :67\n",
      "enter the symbol +,-,*,%,/,//,** ://\n",
      "45-67=0\n"
     ]
    }
   ],
   "source": [
    "#20.Create a dynamic calculator which asks for numbers and \n",
    "#operator and return the answers\n",
    "while (3==3):\n",
    "    x= int(input(\"enter the num :\"))\n",
    "    y=int(input(\"enter the num :\"))\n",
    "    k=input(\"enter the symbol +,-,*,%,/,//,** :\")\n",
    "    if (k==\"+\"):\n",
    "        print(\"{}+{}={}\".format(x,y,x+y))\n",
    "    elif (k==\"-\"):\n",
    "         print(\"{}-{}={}\".format(x,y,x-y))\n",
    "    elif (k==\"*\"):\n",
    "         print(\"{}*{}={}\".format(x,y,x*y))\n",
    "    elif (k==\"%\"):\n",
    "         print(\"{}%{}={}\".format(x,y,x%y))\n",
    "    elif (k==\"/\"):\n",
    "         print(\"{}/{}={}\".format(x,y,x/y)) \n",
    "    elif (k==\"**\"):\n",
    "         print(\"{}**{}={}\".format(x,y,x**y))\n",
    "    elif (k==\"//\"):\n",
    "         print(\"{}-{}={}\".format(x,y,x//y))\n",
    "    elif(k.lower()==\"q\"):\n",
    "        break\n",
    "    else:\n",
    "        print(\"correct the symbol\")\n",
    "        \n",
    "\n",
    "\n",
    "\n",
    "\n",
    "\n",
    "\n"
   ]
  },
  {
   "cell_type": "code",
   "execution_count": null,
   "id": "95e6540c",
   "metadata": {},
   "outputs": [],
   "source": []
  }
 ],
 "metadata": {
  "kernelspec": {
   "display_name": "Python 3 (ipykernel)",
   "language": "python",
   "name": "python3"
  },
  "language_info": {
   "codemirror_mode": {
    "name": "ipython",
    "version": 3
   },
   "file_extension": ".py",
   "mimetype": "text/x-python",
   "name": "python",
   "nbconvert_exporter": "python",
   "pygments_lexer": "ipython3",
   "version": "3.9.13"
  }
 },
 "nbformat": 4,
 "nbformat_minor": 5
}
